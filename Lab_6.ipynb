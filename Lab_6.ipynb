{
 "cells": [
  {
   "cell_type": "markdown",
   "id": "5c84f9b7",
   "metadata": {},
   "source": [
    "### Лабораторная работа №6. Библиотека matplotlib"
   ]
  },
  {
   "cell_type": "code",
   "execution_count": null,
   "id": "112b392b",
   "metadata": {},
   "outputs": [],
   "source": [
    "from matplotlib import pyplot as plt\n",
    "import numpy as np"
   ]
  },
  {
   "cell_type": "markdown",
   "id": "895d3ebe",
   "metadata": {},
   "source": [
    "Задание 1. Вывести график sin(t) в диапазоне t 0:10. Подписать название осей. График сделать синим цветом "
   ]
  },
  {
   "cell_type": "code",
   "execution_count": null,
   "id": "ba522c82",
   "metadata": {},
   "outputs": [],
   "source": [
    "t = np.arange(start, stop, 0.1)\n",
    "sin = np.sin(t)\n"
   ]
  },
  {
   "cell_type": "markdown",
   "id": "f9c35482",
   "metadata": {},
   "source": [
    "Задание 2. Вывести графики sin(t) и cos(t) в диапазоне t -5:5 на отдельных плоскостях (строкой). Подписать название осей. График sin(t) сделать синим цветом, график cos(t) сделать зеленым цветом. Сделать соответствующие заголовки"
   ]
  },
  {
   "cell_type": "code",
   "execution_count": null,
   "id": "bf99a240",
   "metadata": {},
   "outputs": [],
   "source": []
  },
  {
   "cell_type": "markdown",
   "id": "e3fc0706",
   "metadata": {},
   "source": [
    "Задание 3. Сделать вектор x в диапазоне -10, 10. Реализовать расчет следующих функций: y = 3x, y = -3x, y = 3x^2, y = -3x^2. Вывести их на одной плоскости. Подписать название осей. Сделать легенду. Каждый график должен имет свой цвет."
   ]
  },
  {
   "cell_type": "code",
   "execution_count": null,
   "id": "d0176823",
   "metadata": {},
   "outputs": [],
   "source": []
  },
  {
   "cell_type": "markdown",
   "id": "9b0eec32",
   "metadata": {},
   "source": [
    "Задание 4. Сделать сетку 2х2. Элемент [0, 0] - задание 1. Элемент [0, 1] - задание 3. Элементы [1, 0] и [1, 1] - задание 2."
   ]
  },
  {
   "cell_type": "code",
   "execution_count": null,
   "id": "d57b1d08",
   "metadata": {},
   "outputs": [],
   "source": []
  }
 ],
 "metadata": {
  "kernelspec": {
   "display_name": "Python 3 (ipykernel)",
   "language": "python",
   "name": "python3"
  },
  "language_info": {
   "codemirror_mode": {
    "name": "ipython",
    "version": 3
   },
   "file_extension": ".py",
   "mimetype": "text/x-python",
   "name": "python",
   "nbconvert_exporter": "python",
   "pygments_lexer": "ipython3",
   "version": "3.9.12"
  },
  "varInspector": {
   "cols": {
    "lenName": 16,
    "lenType": 16,
    "lenVar": 40
   },
   "kernels_config": {
    "python": {
     "delete_cmd_postfix": "",
     "delete_cmd_prefix": "del ",
     "library": "var_list.py",
     "varRefreshCmd": "print(var_dic_list())"
    },
    "r": {
     "delete_cmd_postfix": ") ",
     "delete_cmd_prefix": "rm(",
     "library": "var_list.r",
     "varRefreshCmd": "cat(var_dic_list()) "
    }
   },
   "types_to_exclude": [
    "module",
    "function",
    "builtin_function_or_method",
    "instance",
    "_Feature"
   ],
   "window_display": false
  }
 },
 "nbformat": 4,
 "nbformat_minor": 5
}
