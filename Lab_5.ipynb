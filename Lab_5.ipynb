{
 "cells": [
  {
   "cell_type": "markdown",
   "id": "f26000ca",
   "metadata": {},
   "source": [
    "### Лабораторная работа №5. Библиотека Pandas"
   ]
  },
  {
   "cell_type": "code",
   "execution_count": null,
   "id": "dd974d78",
   "metadata": {},
   "outputs": [],
   "source": [
    "import pandas as pd\n",
    "import numpy as np"
   ]
  },
  {
   "cell_type": "markdown",
   "id": "a3b27682",
   "metadata": {},
   "source": [
    "Задание 1. Создать и вывести на экран объект DataFrame, который вглядит следующим образом:\n",
    "\n",
    "![](https://storage.googleapis.com/kaggle-media/learn/images/Ax3pp2A.png)"
   ]
  },
  {
   "cell_type": "code",
   "execution_count": null,
   "id": "5ab9852c",
   "metadata": {},
   "outputs": [],
   "source": []
  },
  {
   "cell_type": "markdown",
   "id": "96f196da",
   "metadata": {},
   "source": [
    "Задание 2. Создать и вывести на экран объект DataFrame, который вглядит следующим образом:\n",
    "\n",
    "![](https://storage.googleapis.com/kaggle-media/learn/images/CHPn7ZF.png)"
   ]
  },
  {
   "cell_type": "code",
   "execution_count": null,
   "id": "4dff17df",
   "metadata": {},
   "outputs": [],
   "source": []
  },
  {
   "cell_type": "markdown",
   "id": "a2c1f46c",
   "metadata": {},
   "source": [
    "Задание 3. Создать и вывести на экран объект Series, который вглядит следующим образом:\n",
    "\n",
    "```\n",
    "Flour     4 cups\n",
    "Milk       1 cup\n",
    "Eggs     2 large\n",
    "Spam       1 can\n",
    "Name: Dinner, dtype: object\n",
    "```"
   ]
  },
  {
   "cell_type": "code",
   "execution_count": null,
   "id": "ecf73fa2",
   "metadata": {},
   "outputs": [],
   "source": []
  },
  {
   "cell_type": "markdown",
   "id": "10d9cbb7",
   "metadata": {},
   "source": [
    "Задание 4. Записать DataFrame из ячейки ниже в .csv файл."
   ]
  },
  {
   "cell_type": "code",
   "execution_count": null,
   "id": "c3abcfab",
   "metadata": {},
   "outputs": [],
   "source": [
    "animals = pd.DataFrame({'Cows': [12, 20], 'Goats': [22, 19]}, index=['Year 1', 'Year 2'])\n"
   ]
  },
  {
   "cell_type": "markdown",
   "id": "598ce7d8",
   "metadata": {},
   "source": [
    "Задание 5. Скачать файл: https://github.com/stoltzmaniac/wine-reviews-kaggle/blob/master/winemag-data_first150k.csv\n",
    "\n",
    "Необходимо прочитать данный файл в DataFrame с названием reviews и вывести его на экран с помощью функции head()."
   ]
  },
  {
   "cell_type": "code",
   "execution_count": null,
   "id": "7399e527",
   "metadata": {},
   "outputs": [],
   "source": []
  },
  {
   "cell_type": "markdown",
   "id": "7e183e2a",
   "metadata": {},
   "source": [
    "Задание 6. Необходимо записать в отдельную переменную столбец:\n",
    "\n",
    "*В-1, 3.* description.  \n",
    "*В-2, 6.* region_1.  \n",
    "*В-4, 5.* winery.\n",
    "\n",
    "Выведите на экран первые 5 значений полученного стобца."
   ]
  },
  {
   "cell_type": "code",
   "execution_count": null,
   "id": "a6991224",
   "metadata": {},
   "outputs": [],
   "source": []
  },
  {
   "cell_type": "markdown",
   "id": "a2825705",
   "metadata": {},
   "source": [
    "Задание 7. Необходимо записать в отдельную переменную:\n",
    "\n",
    "*В-1, 3.* DataFrame, который содержит первые 5 столбцов из reviews.  \n",
    "*В-2, 6.* DataFrame, который содержит последние 5 строк из reviews.  \n",
    "*В-4, 5.* DataFrame, который содержит четные столбцы.  "
   ]
  },
  {
   "cell_type": "code",
   "execution_count": null,
   "id": "f43a7743",
   "metadata": {},
   "outputs": [],
   "source": []
  },
  {
   "cell_type": "markdown",
   "id": "5e9dd37f",
   "metadata": {},
   "source": [
    "Задание 8. Необходимо записать в отдельную переменную:\n",
    "\n",
    "*В-1, 3.* DataFrame, который содержит строки с индексами 1, 3, 5 используя .iloc.  \n",
    "*В-2, 6.* DataFrame, который содержит строки с индексами 1, 4, 15 используя .loc.  \n",
    "*В-4, 5.* DataFrame, который содержит строки с индексами 2, 4, 6 используя .iloc.  "
   ]
  },
  {
   "cell_type": "code",
   "execution_count": null,
   "id": "e65f94e9",
   "metadata": {},
   "outputs": [],
   "source": []
  },
  {
   "cell_type": "markdown",
   "id": "f91e54aa",
   "metadata": {},
   "source": [
    "Задание 9. Необходимо записать в отдельную переменную:\n",
    "\n",
    "*В-1, 3.* DataFrame, который содержит отзывы на вина из Италии или Франции.  \n",
    "*В-2, 6.* DataFrame, который содержит отзывы на вина из Австралии дороже 50.   \n",
    "*В-4, 5.* DataFrame, который содержит отзывы на вина из Новой Зеландии с оценкой больше 90.  \n",
    "\n",
    "Страны перечислены в стобце country. Цены в столбце price. Оценки в столбце points."
   ]
  },
  {
   "cell_type": "code",
   "execution_count": null,
   "id": "3b836837",
   "metadata": {},
   "outputs": [],
   "source": []
  },
  {
   "cell_type": "markdown",
   "id": "548eed29",
   "metadata": {},
   "source": [
    "Задание 10. Необходимо вывести на экран:\n",
    "\n",
    "*В-1, 3.* Среднюю цену вин из Италии.  \n",
    "*В-2, 6.* Среднюю цену и оценку всех вин.   \n",
    "*В-4, 5.* Максимальную оценку вин из Франции.  \n",
    "\n",
    "Страны перечислены в стобце country. Цены в столбце price. Оценки в столбце points."
   ]
  },
  {
   "cell_type": "code",
   "execution_count": null,
   "id": "16f30dfc",
   "metadata": {},
   "outputs": [],
   "source": []
  }
 ],
 "metadata": {
  "kernelspec": {
   "display_name": "Python 3 (ipykernel)",
   "language": "python",
   "name": "python3"
  },
  "language_info": {
   "codemirror_mode": {
    "name": "ipython",
    "version": 3
   },
   "file_extension": ".py",
   "mimetype": "text/x-python",
   "name": "python",
   "nbconvert_exporter": "python",
   "pygments_lexer": "ipython3",
   "version": "3.10.9"
  }
 },
 "nbformat": 4,
 "nbformat_minor": 5
}
