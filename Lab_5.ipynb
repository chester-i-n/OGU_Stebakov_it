{
 "cells": [
  {
   "cell_type": "markdown",
   "metadata": {
    "id": "rsgfavF3s_P7"
   },
   "source": [
    "### Лабораторная работа №5. Массивы numpy\n",
    "*Комментарий:* при выполнении заданий предпочтение отдавать матричной форме записи, избегая использование циклов, если не сказано иное."
   ]
  },
  {
   "cell_type": "code",
   "execution_count": null,
   "metadata": {
    "id": "qJjpmNxys_QM"
   },
   "outputs": [],
   "source": [
    "import numpy as np"
   ]
  },
  {
   "cell_type": "markdown",
   "metadata": {
    "id": "D9biEvj0s_QV"
   },
   "source": [
    "**1.** Создать двумерный массив A размером $(m,n)$ типа *float*. Компоненты массива заполнить с клавиатуры в соответствии с вариантом.  \n",
    "*В-1, 3.* m = 3, n = 4  \n",
    "*В-2, 4.* m = 4, n = 2  \n",
    "*В-5, 6.* m = 3, n = 3"
   ]
  },
  {
   "cell_type": "code",
   "execution_count": null,
   "metadata": {
    "id": "2UruvFMQs_QY"
   },
   "outputs": [],
   "source": []
  },
  {
   "cell_type": "markdown",
   "metadata": {
    "id": "ff8gvfWos_QZ"
   },
   "source": [
    "**1.1.** Выполнить действия с элементами массива $A$ по вариантам:  \n",
    "*В-1, 3.* Заменить все значения второй строки на единицы.  \n",
    "*В-2, 4.* Заменить каждый второй элемент первого столбца на значения первого элемента массива.  \n",
    "*В-5, 6.* Заменить диагональные элемнты массива на нули."
   ]
  },
  {
   "cell_type": "code",
   "execution_count": null,
   "metadata": {
    "id": "n0jKyabhs_Qc"
   },
   "outputs": [],
   "source": [
    " "
   ]
  },
  {
   "cell_type": "markdown",
   "metadata": {
    "id": "UUQdvs3ns_Qf"
   },
   "source": [
    "**1.2.** Определить массив $C$, равный сумме массивов $A$ и $B$, где   \n",
    "*В-1, 3.* Массив $B$ - одномерный массив размера $(n,)$ со значениями случайной величины, распределенной в интервале (0,1).  \n",
    "*В-2, 4.* Массив $B$ - массив-столбец размера $(m,1)$ с целочисленными значениями от нуля с шагом равным 5.  \n",
    "*В-5, 6.* Массив $B$ - одномерный массив с $n$ элементами в диапазоне $[10.4; 20]$.  \n",
    "**Вопрос:** Какой размер массива $C$?"
   ]
  },
  {
   "cell_type": "code",
   "execution_count": null,
   "metadata": {
    "id": "RS4dUIbvs_Qi"
   },
   "outputs": [],
   "source": []
  },
  {
   "cell_type": "markdown",
   "metadata": {
    "id": "3MH-ajhjs_Qj"
   },
   "source": [
    "**1.3.** Определить массив $D$, равный произведению массивов $A$ и $B$.  \n",
    "**Вопрос:** Какой размер массива $D$?"
   ]
  },
  {
   "cell_type": "code",
   "execution_count": null,
   "metadata": {
    "id": "WnJewD2Os_Qm"
   },
   "outputs": [],
   "source": []
  },
  {
   "cell_type": "markdown",
   "metadata": {
    "id": "qJ-nfi7Fs_Qn"
   },
   "source": [
    "**1.4.** Определить массив $M$, равный матричному произведению массива $А$ и $F$, где массив $F$ размером (n,m) содержит случайные значения из диапазона (0,1). Значения m, n - из п.1.  \n",
    "**Вопрос:** Какой размер массива $M$?"
   ]
  },
  {
   "cell_type": "code",
   "execution_count": null,
   "metadata": {
    "id": "7Nj09X7Cs_Qp"
   },
   "outputs": [],
   "source": []
  },
  {
   "cell_type": "markdown",
   "metadata": {
    "id": "ZOXKNz9as_Qr"
   },
   "source": [
    "**1.5.** Выполнить задание по вариантам:  \n",
    "*В-1, 3.* В каждой строке массива $M$ найти минимальное и максимальное значения элементов. Найти среднее значение всех элементов массива $M$.  \n",
    "*В-2, 4.* В каждом столбце массива $M$ найти минимальное и максимальное значения элементов. Найти минимальное значение среди всех элементов массива $M$.   \n",
    "*В-5, 6.* В каждой строке массива $M$ найти средние значения элементов. Найти максимальное значение среди всех элементов массива $M$.  \n"
   ]
  },
  {
   "cell_type": "code",
   "execution_count": null,
   "metadata": {
    "id": "_qfyA-OAs_Qt"
   },
   "outputs": [],
   "source": []
  },
  {
   "cell_type": "markdown",
   "metadata": {
    "id": "WYkXVfigs_Qu"
   },
   "source": [
    "**1.6.** Вывести значения массива $M$, удовлетворяющие условиям:  \n",
    "*В-1, 3.* все значения по модулю меньше 10.  \n",
    "*В-2, 4.* все ненулевые значения, которые меньше 15.  \n",
    "*В-5, 6.* все значения из интервалов (0, 15) или (-10,-1)."
   ]
  },
  {
   "cell_type": "code",
   "execution_count": null,
   "metadata": {
    "id": "L7L0slh6s_Qy"
   },
   "outputs": [],
   "source": []
  }
 ],
 "metadata": {
  "colab": {
   "collapsed_sections": [],
   "provenance": []
  },
  "kernelspec": {
   "display_name": "Python 3 (ipykernel)",
   "language": "python",
   "name": "python3"
  },
  "language_info": {
   "codemirror_mode": {
    "name": "ipython",
    "version": 3
   },
   "file_extension": ".py",
   "mimetype": "text/x-python",
   "name": "python",
   "nbconvert_exporter": "python",
   "pygments_lexer": "ipython3",
   "version": "3.9.12"
  },
  "varInspector": {
   "cols": {
    "lenName": 16,
    "lenType": 16,
    "lenVar": 40
   },
   "kernels_config": {
    "python": {
     "delete_cmd_postfix": "",
     "delete_cmd_prefix": "del ",
     "library": "var_list.py",
     "varRefreshCmd": "print(var_dic_list())"
    },
    "r": {
     "delete_cmd_postfix": ") ",
     "delete_cmd_prefix": "rm(",
     "library": "var_list.r",
     "varRefreshCmd": "cat(var_dic_list()) "
    }
   },
   "types_to_exclude": [
    "module",
    "function",
    "builtin_function_or_method",
    "instance",
    "_Feature"
   ],
   "window_display": false
  }
 },
 "nbformat": 4,
 "nbformat_minor": 1
}
