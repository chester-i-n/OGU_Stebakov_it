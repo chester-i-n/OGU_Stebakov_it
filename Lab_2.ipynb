{
 "cells": [
  {
   "cell_type": "markdown",
   "metadata": {
    "id": "8xJeZBYiEicY"
   },
   "source": [
    "### Лабораторная работа №1. Изменяемые типы данных. Операторы ветвления и циклов в Python 3"
   ]
  },
  {
   "cell_type": "markdown",
   "metadata": {
    "id": "WnR3rnDVF2LQ"
   },
   "source": [
    "**1.** Создайте список с именем *famous_actor*, содержащий имена/фамилии знаменитых актеров (длина списка от 5 до 10 элементов) и выведите его на печать."
   ]
  },
  {
   "cell_type": "code",
   "execution_count": null,
   "metadata": {
    "id": "WBjuRN9BEhrv"
   },
   "outputs": [],
   "source": []
  },
  {
   "cell_type": "markdown",
   "metadata": {},
   "source": [
    "1.1 Создайте копию списка с именем *actor*"
   ]
  },
  {
   "cell_type": "code",
   "execution_count": null,
   "metadata": {},
   "outputs": [],
   "source": []
  },
  {
   "cell_type": "markdown",
   "metadata": {
    "id": "pTfTpZ_3HA93"
   },
   "source": [
    "*1.2* Напечатайте с помощью функции *print()* на экран фамилию/имя третьего актера."
   ]
  },
  {
   "cell_type": "code",
   "execution_count": null,
   "metadata": {
    "id": "W2iGHnYxF154"
   },
   "outputs": [],
   "source": []
  },
  {
   "cell_type": "markdown",
   "metadata": {
    "id": "7h5MlY61HVE-"
   },
   "source": [
    "*1.3* Отсортируйте список *actor* в алфавитном порядке. Какой актер оказался третьим?   \n",
    "*В-1, 3.* Удалите его и выведите на печать.  \n",
    "*В-2, 6.* Вспомните фамилию актера, которого нет в списке и замените им третьего актера в текущем списке.  \n",
    "*В-4, 5.* Добавьте нового актера в список так, чтобы он шел после третьего актера в текущем списке.  \n",
    "После проделанных действий выведите на печать получившийся список *actor*, сравните его с исходным *famous_actor*, что изменилось?"
   ]
  },
  {
   "cell_type": "code",
   "execution_count": null,
   "metadata": {
    "id": "tzNQczPbHgC6"
   },
   "outputs": [],
   "source": []
  },
  {
   "cell_type": "markdown",
   "metadata": {},
   "source": [
    "*1.4* Введите с клавиатуры (используя функцию *input()*) фамилию/имя любого актера, запишите значение в переменную new_actor и проверьте входит ли этот актер в список *actor*? Если входит, то определите его порядковый номер в списке и напечатайте его, в противном случае напечатайте сообщение \"This actor are not found in the list!\""
   ]
  },
  {
   "cell_type": "code",
   "execution_count": 1,
   "metadata": {},
   "outputs": [
    {
     "name": "stdout",
     "output_type": "stream",
     "text": [
      "123\n"
     ]
    }
   ],
   "source": []
  },
  {
   "cell_type": "markdown",
   "metadata": {
    "id": "X_fHiRwMImtp"
   },
   "source": [
    "**2** Создайте словарь *actor_dict*, в котором ключ - имя/фамилия актера, а значением является список фильмов с участием соответствующего актера. Запишите не менее трех актеров.\n"
   ]
  },
  {
   "cell_type": "code",
   "execution_count": 2,
   "metadata": {
    "id": "0MM-so7GKuIg"
   },
   "outputs": [],
   "source": []
  },
  {
   "cell_type": "markdown",
   "metadata": {},
   "source": [
    "*2.1* Создайте копию словаря с именем *actor_dict_copy*"
   ]
  },
  {
   "cell_type": "code",
   "execution_count": 3,
   "metadata": {},
   "outputs": [],
   "source": []
  },
  {
   "cell_type": "markdown",
   "metadata": {
    "id": "dSMLr4lyKvUh"
   },
   "source": [
    "*2.2* Добавьте в словарь *actor_dict_copy* новый объект вида 'actor name': \\['film_1', 'film_2', ...\\] и напечатайте весь словарь.  \n",
    "Ответьте на вопрос: изменится ли словарь, если актер с такой фамилией уже был в этом словаре?"
   ]
  },
  {
   "cell_type": "code",
   "execution_count": 4,
   "metadata": {},
   "outputs": [],
   "source": []
  },
  {
   "cell_type": "markdown",
   "metadata": {},
   "source": [
    "*2.3* Выведите список фильмов нового актера."
   ]
  },
  {
   "cell_type": "code",
   "execution_count": null,
   "metadata": {},
   "outputs": [],
   "source": []
  },
  {
   "cell_type": "markdown",
   "metadata": {},
   "source": [
    "*2.4* Соедините словарь *actor_dict_copy* со словарем *actor_dict*.  \n",
    "Сколько элементов содержит теперь словаь *actor_dict_copy*?"
   ]
  },
  {
   "cell_type": "code",
   "execution_count": null,
   "metadata": {},
   "outputs": [],
   "source": []
  },
  {
   "cell_type": "markdown",
   "metadata": {},
   "source": [
    "*2.5* Напечатайте второй фильм у третьего актера?"
   ]
  },
  {
   "cell_type": "code",
   "execution_count": null,
   "metadata": {},
   "outputs": [],
   "source": []
  },
  {
   "cell_type": "markdown",
   "metadata": {},
   "source": [
    "*2.6* Введите с клавиатуры (используя функцию *input()*) фамилию/имя любого актера. Проверьте по ключу есть ли в словаре этот актер, предусмотрите в коде возможность вывода сообщения об отсутствии актера."
   ]
  },
  {
   "cell_type": "code",
   "execution_count": null,
   "metadata": {},
   "outputs": [],
   "source": []
  },
  {
   "cell_type": "markdown",
   "metadata": {},
   "source": [
    "*2.7* Запишите все ключи словаря *actor_dict_copy* в список *name*, напечатайте его."
   ]
  },
  {
   "cell_type": "code",
   "execution_count": null,
   "metadata": {},
   "outputs": [],
   "source": []
  },
  {
   "cell_type": "markdown",
   "metadata": {
    "id": "hMN96RhHvJPA"
   },
   "source": [
    "**3** Организуйте ввод с клавиатуры (с помощью функции *input()*) чисел типа *float*, значения записывайте в список *value* до тех пор, пока не будет введено:  \n",
    "*В-1, 3.* Нечетное число;  \n",
    "*В-2, 4* Четной число;  \n",
    "*В-5, 6* Отрицательное число или ноль."
   ]
  },
  {
   "cell_type": "code",
   "execution_count": null,
   "metadata": {
    "id": "P60DLtQui9mM"
   },
   "outputs": [],
   "source": []
  },
  {
   "cell_type": "markdown",
   "metadata": {
    "id": "ANihegPMPFI1"
   },
   "source": [
    "**4** Организуйте ввод с клавиатуры (с помощью функции *input()*) пяти чисел типа *float*, значения записывайте в список *value_2*, до тех пор, пока не будет заполнено 5 элементов списка, либо не будет введен ноль. Если введены все пять элементов, то вывести сообщение 'list is overfit', в противном случае напечатать 'Input was interrupted!'  \n",
    "Вывести на печать список *value_2*."
   ]
  },
  {
   "cell_type": "code",
   "execution_count": null,
   "metadata": {
    "id": "0Fou1G7iPOWb"
   },
   "outputs": [],
   "source": []
  },
  {
   "cell_type": "markdown",
   "metadata": {
    "id": "TwApWpjEO9yR"
   },
   "source": [
    "**5** Используя включение списков, создать список длиной N+5 (N - номер варианта) с элементами, представляющими из себя последовательность:  \n",
    "*В-1.* четных чисел, первый элемент принять равным 10;  \n",
    "*В-2.* нечетных чисел, первый элемент принять равным 3;  \n",
    "*В-3.* чисел, равных квадрату предыдущего, первый элемент принять равным 2;  \n",
    "*В-4.* чисел, равных квадрату своего номера (обратите внимание, что номер элемента равен смещению плюс один);  \n",
    "*В-5.* чисел, равных удвоенному значению предыдущего элемента, первый элемент принять равным 2;  \n",
    "*В-6.* чисел, равных квадратному корню своего номера (обратите внимание, что номер элемента равен смещению плюс один);  "
   ]
  },
  {
   "cell_type": "code",
   "execution_count": null,
   "metadata": {},
   "outputs": [],
   "source": []
  },
  {
   "cell_type": "markdown",
   "metadata": {},
   "source": [
    "**6** С помощью оператора цикла *for* напечатать значения из словаря  *actor_dict_copy* (из п.2.1):  \n",
    "*В-1,3* всей ключей;  \n",
    "*В-2,6* всех значений;  \n",
    "*В-4,5* всех объектов словаря типа \"ключ-значение\"."
   ]
  },
  {
   "cell_type": "code",
   "execution_count": null,
   "metadata": {},
   "outputs": [],
   "source": []
  },
  {
   "cell_type": "markdown",
   "metadata": {},
   "source": [
    "**7** С помощью функции *input()* ввести координаты *(x, y)* точки. Проверить к какому квадранту принадлежит точка и напечатать результат. (Используйте оператор if-elif-else). Если точка лежит на одной из осей или в начале координат, то вывести сообщение: \"The point belongs to one of axes or the point is a origin\""
   ]
  },
  {
   "cell_type": "code",
   "execution_count": null,
   "metadata": {},
   "outputs": [],
   "source": []
  }
 ],
 "metadata": {
  "colab": {
   "collapsed_sections": [],
   "name": "Lab_1_11MX.ipynb",
   "provenance": []
  },
  "kernelspec": {
   "display_name": "Python 3 (ipykernel)",
   "language": "python",
   "name": "python3"
  },
  "language_info": {
   "codemirror_mode": {
    "name": "ipython",
    "version": 3
   },
   "file_extension": ".py",
   "mimetype": "text/x-python",
   "name": "python",
   "nbconvert_exporter": "python",
   "pygments_lexer": "ipython3",
   "version": "3.9.12"
  },
  "varInspector": {
   "cols": {
    "lenName": 16,
    "lenType": 16,
    "lenVar": 40
   },
   "kernels_config": {
    "python": {
     "delete_cmd_postfix": "",
     "delete_cmd_prefix": "del ",
     "library": "var_list.py",
     "varRefreshCmd": "print(var_dic_list())"
    },
    "r": {
     "delete_cmd_postfix": ") ",
     "delete_cmd_prefix": "rm(",
     "library": "var_list.r",
     "varRefreshCmd": "cat(var_dic_list()) "
    }
   },
   "types_to_exclude": [
    "module",
    "function",
    "builtin_function_or_method",
    "instance",
    "_Feature"
   ],
   "window_display": false
  }
 },
 "nbformat": 4,
 "nbformat_minor": 1
}
