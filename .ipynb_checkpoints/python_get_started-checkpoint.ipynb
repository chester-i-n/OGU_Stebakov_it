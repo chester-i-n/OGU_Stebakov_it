{
 "cells": [
  {
   "cell_type": "markdown",
   "metadata": {
    "id": "xMIElUGy1p6_"
   },
   "source": [
    "# Типы данных и операторы"
   ]
  },
  {
   "cell_type": "code",
   "execution_count": 1,
   "metadata": {
    "colab": {
     "base_uri": "https://localhost:8080/"
    },
    "id": "axaIYsvG1p7A",
    "outputId": "5c993510-9ec6-4856-c9bf-ca78f8dd9bcf"
   },
   "outputs": [
    {
     "name": "stdout",
     "output_type": "stream",
     "text": [
      "'Hello world!' - <class 'str'>\n",
      "4 - <class 'int'>\n",
      "4. - <class 'float'>\n",
      "True - <class 'bool'>\n",
      "None - <class 'NoneType'>\n"
     ]
    }
   ],
   "source": [
    "# Типы данных\n",
    "\n",
    "print(f'\\'Hello world!\\' - {type(\"Hello world!\")}')\n",
    "print(f'4 - {type(4)}')\n",
    "print(f'4. - {type(4.)}')\n",
    "print(f'True - {type(True)}')\n",
    "print(f'None - {type(None)}')"
   ]
  },
  {
   "cell_type": "code",
   "execution_count": 2,
   "metadata": {
    "colab": {
     "base_uri": "https://localhost:8080/"
    },
    "id": "PtXSyOPC1p7A",
    "outputId": "1fd0cfdd-27fc-40bb-bd1b-d705e2eb8952"
   },
   "outputs": [
    {
     "name": "stdout",
     "output_type": "stream",
     "text": [
      "2 + 3 = 5\n",
      "5.5 - 2 = 3.5\n",
      "20 * 3 = 60\n",
      "20 / 3 = 6.666666666666667\n",
      "12 // 5 = 2\n",
      "12 % 5 = 2\n",
      "2 ** 2 = 4\n",
      "4 ** 0.5 = 2.0\n"
     ]
    }
   ],
   "source": [
    "# Арифметические операторы\n",
    "\n",
    "print(f'2 + 3 = {2 + 3}')\n",
    "print(f'5.5 - 2 = {5.5 - 2}')\n",
    "print(f'20 * 3 = {20 * 3}')\n",
    "print(f'20 / 3 = {20 / 3}')\n",
    "print(f'12 // 5 = {12 // 5}')\n",
    "print(f'12 % 5 = {12 % 5}')\n",
    "print(f'2 ** 2 = {2 ** 2}')\n",
    "print(f'4 ** 0.5 = {4 ** 0.5}')"
   ]
  },
  {
   "cell_type": "code",
   "execution_count": 3,
   "metadata": {
    "colab": {
     "base_uri": "https://localhost:8080/"
    },
    "id": "-_6I_OeQ1p7B",
    "outputId": "f8d08f75-b38a-470d-ddae-2f5ac804b573"
   },
   "outputs": [
    {
     "name": "stdout",
     "output_type": "stream",
     "text": [
      "5 > 2 - True\n",
      "5 <= 2 - False\n",
      "5 == 5 - True\n"
     ]
    }
   ],
   "source": [
    "# Операторы сравнения\n",
    "\n",
    "print(f'5 > 2 - {5 > 2}')\n",
    "print(f'5 <= 2 - {5 <= 2}')\n",
    "print(f'5 == 5 - {5 == 5}')"
   ]
  },
  {
   "cell_type": "code",
   "execution_count": 4,
   "metadata": {
    "colab": {
     "base_uri": "https://localhost:8080/"
    },
    "id": "tK92pbCF1p7B",
    "outputId": "bed7f61e-dc1b-40b3-8cfb-c47a10af9aa1"
   },
   "outputs": [
    {
     "name": "stdout",
     "output_type": "stream",
     "text": [
      "5 == 5 and 5 <= 2 - False\n",
      "5 == 5 or 5 <= 2 - True\n",
      "not 5 == 5 - False\n"
     ]
    }
   ],
   "source": [
    "# Логические операторы\n",
    "\n",
    "print(f'5 == 5 and 5 <= 2 - {5 == 5 and 5 <= 2}')\n",
    "print(f'5 == 5 or 5 <= 2 - {5 == 5 or 5 <= 2}')\n",
    "print(f'not 5 == 5 - {not 5 == 5}')"
   ]
  },
  {
   "cell_type": "code",
   "execution_count": 5,
   "metadata": {
    "colab": {
     "base_uri": "https://localhost:8080/"
    },
    "id": "x24QnyLK1p7C",
    "outputId": "3b7ee321-112c-4ed6-92c5-e97a9d664b10"
   },
   "outputs": [
    {
     "name": "stdout",
     "output_type": "stream",
     "text": [
      "int(5.6) - 5\n",
      "float('6.5') - 6.5\n",
      "bool(10) - True\n"
     ]
    }
   ],
   "source": [
    "# Приведение типов\n",
    "\n",
    "print(f'int(5.6) - {int(5.6)}')\n",
    "print(f'float(\\'6.5\\') - {float(\"6.5\")}')\n",
    "print(f'bool(10) - {bool(10)}')"
   ]
  },
  {
   "cell_type": "markdown",
   "metadata": {
    "id": "ylR0s8rdtf6P"
   },
   "source": [
    " # Переменные"
   ]
  },
  {
   "cell_type": "code",
   "execution_count": 6,
   "metadata": {
    "colab": {
     "base_uri": "https://localhost:8080/"
    },
    "id": "skYbtyoztlZJ",
    "outputId": "38635a4f-4f0d-415e-aab4-195e4dc4f3d8"
   },
   "outputs": [
    {
     "name": "stdout",
     "output_type": "stream",
     "text": [
      "True\n"
     ]
    }
   ],
   "source": [
    "a = 3.3\n",
    "b = a\n",
    "\n",
    "print(a is b)"
   ]
  },
  {
   "cell_type": "code",
   "execution_count": 7,
   "metadata": {
    "colab": {
     "base_uri": "https://localhost:8080/"
    },
    "id": "DQD0HdqjufiG",
    "outputId": "218172f4-975e-4ada-8d41-7608692f9704"
   },
   "outputs": [
    {
     "name": "stdout",
     "output_type": "stream",
     "text": [
      "False\n"
     ]
    }
   ],
   "source": [
    "b = 4\n",
    "\n",
    "print(a is b)"
   ]
  },
  {
   "cell_type": "code",
   "execution_count": 8,
   "metadata": {
    "colab": {
     "base_uri": "https://localhost:8080/"
    },
    "id": "ZPYpxvpLuXFo",
    "outputId": "d596d600-ecf6-4c60-f66e-b8def015ecbb"
   },
   "outputs": [
    {
     "name": "stdout",
     "output_type": "stream",
     "text": [
      "False\n"
     ]
    }
   ],
   "source": [
    "a = 3.3\n",
    "b = 3.3\n",
    "\n",
    "print(a is b)"
   ]
  },
  {
   "cell_type": "code",
   "execution_count": 9,
   "metadata": {},
   "outputs": [
    {
     "name": "stdout",
     "output_type": "stream",
     "text": [
      "5 2\n"
     ]
    }
   ],
   "source": [
    "# Групповое присваивание\n",
    "\n",
    "a = 2\n",
    "b = 5\n",
    "a, b = b, a\n",
    "\n",
    "print(a, b)"
   ]
  },
  {
   "cell_type": "markdown",
   "metadata": {
    "id": "zupcZkKm1p7C"
   },
   "source": [
    "# Функции и условия"
   ]
  },
  {
   "cell_type": "code",
   "execution_count": 10,
   "metadata": {
    "colab": {
     "base_uri": "https://localhost:8080/"
    },
    "id": "u5h1G5c71p7D",
    "outputId": "271728eb-cf80-4ed7-945e-36aaf33142c6"
   },
   "outputs": [
    {
     "name": "stdout",
     "output_type": "stream",
     "text": [
      "6.5\n"
     ]
    }
   ],
   "source": [
    "def summ(a, b):\n",
    "    return a + b\n",
    "\n",
    "print(summ(1, 5.5))"
   ]
  },
  {
   "cell_type": "code",
   "execution_count": 11,
   "metadata": {
    "colab": {
     "base_uri": "https://localhost:8080/"
    },
    "id": "IVTpJK7h1p7D",
    "outputId": "49c6e58e-0345-4dc0-a3cc-a64c27da2fd1"
   },
   "outputs": [
    {
     "name": "stdout",
     "output_type": "stream",
     "text": [
      "7\n"
     ]
    }
   ],
   "source": [
    "def maximum(a, b):\n",
    "    if a > b:\n",
    "        return a\n",
    "    return b\n",
    "\n",
    "print(maximum(5, 7))"
   ]
  },
  {
   "cell_type": "code",
   "execution_count": 12,
   "metadata": {
    "colab": {
     "base_uri": "https://localhost:8080/"
    },
    "id": "j4L_t_Yp1p7D",
    "outputId": "e1ddcb4b-2f25-4cbd-fd1f-01525efd1f4d"
   },
   "outputs": [
    {
     "name": "stdout",
     "output_type": "stream",
     "text": [
      "adult\n"
     ]
    }
   ],
   "source": [
    "def how_old(age):\n",
    "    if age < 18:\n",
    "        print('young')\n",
    "    elif age < 70:\n",
    "        print('adult')\n",
    "    else:\n",
    "        print('old')\n",
    "\n",
    "how_old(45)"
   ]
  },
  {
   "cell_type": "code",
   "execution_count": 13,
   "metadata": {
    "colab": {
     "base_uri": "https://localhost:8080/"
    },
    "id": "LxxFfm021p7E",
    "outputId": "3529984a-7db2-4161-9b3c-c53e77ab8161"
   },
   "outputs": [
    {
     "name": "stdout",
     "output_type": "stream",
     "text": [
      "5\n"
     ]
    }
   ],
   "source": [
    "a = 5\n",
    "b = a if a < 10 else 10\n",
    "\n",
    "print(b)"
   ]
  },
  {
   "cell_type": "markdown",
   "metadata": {},
   "source": [
    "# Ввод данных с клавиатуры"
   ]
  },
  {
   "cell_type": "code",
   "execution_count": 14,
   "metadata": {},
   "outputs": [
    {
     "name": "stdout",
     "output_type": "stream",
     "text": [
      "15\n",
      "<class 'str'>\n",
      "15\n"
     ]
    }
   ],
   "source": [
    "# Ввод данных с клавиатуры\n",
    "a = input()\n",
    "print(type(a))\n",
    "print(a)"
   ]
  },
  {
   "cell_type": "markdown",
   "metadata": {
    "id": "Qvr32fW21p7E"
   },
   "source": [
    "# Lists"
   ]
  },
  {
   "cell_type": "code",
   "execution_count": 15,
   "metadata": {
    "_cell_guid": "b1076dfc-b9ad-4769-8c92-a6c4dae69d19",
    "_uuid": "8f2839f25d086af736a60e9eeb907d3b93b6e0e5",
    "colab": {
     "base_uri": "https://localhost:8080/"
    },
    "id": "KHAbM7Zt1p7E",
    "outputId": "20b512dc-a74b-4e18-ffca-7da5d1d2002b"
   },
   "outputs": [
    {
     "name": "stdout",
     "output_type": "stream",
     "text": [
      "[5, 2.1, 0, False, [1, 2, 3]], len: 5\n"
     ]
    }
   ],
   "source": [
    "# Инициализация\n",
    "\n",
    "a = []\n",
    "a = list()\n",
    "a = [5, 2.1, 0, False, [1, 2, 3]]\n",
    "\n",
    "print('{}, len: {}'.format(a, len(a)))"
   ]
  },
  {
   "cell_type": "code",
   "execution_count": 16,
   "metadata": {
    "colab": {
     "base_uri": "https://localhost:8080/"
    },
    "id": "K4aYb5rQO1Pz",
    "outputId": "ac6c24c6-e2fc-4ffe-d7e4-1d3725aa9f11"
   },
   "outputs": [
    {
     "name": "stdout",
     "output_type": "stream",
     "text": [
      "a[0] - 5, a[-2] - False\n"
     ]
    }
   ],
   "source": [
    "# Индексация\n",
    "\n",
    "print('a[0] - {}, a[-2] - {}'.format(a[0], a[-2]))"
   ]
  },
  {
   "cell_type": "code",
   "execution_count": 17,
   "metadata": {
    "colab": {
     "base_uri": "https://localhost:8080/"
    },
    "id": "oYeI1gYu1p7E",
    "outputId": "6b0a3913-219b-4725-b515-44c174cb8988"
   },
   "outputs": [
    {
     "name": "stdout",
     "output_type": "stream",
     "text": [
      "a: [0, 1, 2, 3, 4, 5]\n",
      "\n",
      "a[2:5]: [2, 3, 4]\n",
      "\n",
      "a[5:2]: []\n",
      "\n",
      "a[5:2:-1]: [5, 4, 3]\n",
      "\n",
      "a[:3]: [0, 1, 2]\n",
      "\n",
      "a[2:]: [2, 3, 4, 5]\n",
      "\n"
     ]
    }
   ],
   "source": [
    "# Срезы\n",
    "\n",
    "a = [0, 1, 2, 3, 4, 5]\n",
    "\n",
    "print('a: {}\\n'.format(a))\n",
    "\n",
    "print('a[2:5]: {}\\n'.format(a[2:5]))\n",
    "print('a[5:2]: {}\\n'.format(a[5:2]))\n",
    "print('a[5:2:-1]: {}\\n'.format(a[5:2:-1]))\n",
    "print('a[:3]: {}\\n'.format(a[:3]))\n",
    "print('a[2:]: {}\\n'.format(a[2:]))"
   ]
  },
  {
   "cell_type": "code",
   "execution_count": 18,
   "metadata": {
    "colab": {
     "base_uri": "https://localhost:8080/"
    },
    "id": "hwH0HW1l1p7F",
    "outputId": "4d1e8a24-9fdc-466f-d6d6-16cf348e1fec"
   },
   "outputs": [
    {
     "name": "stdout",
     "output_type": "stream",
     "text": [
      "a: [0, 1, 2, 3, 4, 5]\n",
      "\n",
      "a[-5:-2]: [1, 2, 3]\n",
      "\n",
      "a[-5:-2:-1]: []\n",
      "\n",
      "a[::-1]: [5, 4, 3, 2, 1, 0]\n",
      "\n"
     ]
    }
   ],
   "source": [
    "print('a: {}\\n'.format(a))\n",
    "print('a[-5:-2]: {}\\n'.format(a[-5:-2]))\n",
    "print('a[-5:-2:-1]: {}\\n'.format(a[-5:-2:-1]))\n",
    "print('a[::-1]: {}\\n'.format(a[::-1]))"
   ]
  },
  {
   "cell_type": "code",
   "execution_count": 19,
   "metadata": {},
   "outputs": [
    {
     "name": "stdout",
     "output_type": "stream",
     "text": [
      "[0, 1, 2, 3, 4, 5] \n",
      "\n",
      "[0, 1, 199, 3, 4, 5] \n",
      "\n",
      "[0, 1, 199, 3, 1, 5] \n",
      "\n"
     ]
    }
   ],
   "source": [
    "# Присваивание значений элементам\n",
    "a = [0, 1, 2, 3, 4, 5]\n",
    "\n",
    "print(a, '\\n')\n",
    "\n",
    "a[2] = 199\n",
    "\n",
    "print(a, '\\n')\n",
    "\n",
    "a[-2] = 1\n",
    "\n",
    "print(a, '\\n')"
   ]
  },
  {
   "cell_type": "code",
   "execution_count": 20,
   "metadata": {
    "colab": {
     "base_uri": "https://localhost:8080/"
    },
    "id": "ozYhKzxm1p7F",
    "outputId": "e5d0bab5-e706-4374-88ff-62fb06b515bf"
   },
   "outputs": [
    {
     "name": "stdout",
     "output_type": "stream",
     "text": [
      "[1, 4, 3]\n",
      "[1, 4, 3]\n"
     ]
    }
   ],
   "source": [
    "# Неправильное копирование списка\n",
    "\n",
    "a = [1,2,3]\n",
    "b = a\n",
    "b[1] = 4\n",
    "\n",
    "print(a)\n",
    "print(b)"
   ]
  },
  {
   "cell_type": "code",
   "execution_count": 21,
   "metadata": {
    "colab": {
     "base_uri": "https://localhost:8080/"
    },
    "id": "3A6-ZGjY1p7F",
    "outputId": "dbfc1c4a-404a-4527-ad9b-ea7f12db0831"
   },
   "outputs": [
    {
     "name": "stdout",
     "output_type": "stream",
     "text": [
      "[1, 2, 3]\n",
      "[1, 4, 3]\n"
     ]
    }
   ],
   "source": [
    "# Правильное копирование списка\n",
    "\n",
    "a = [1,2,3]\n",
    "b = a[:]\n",
    "b[1] = 4\n",
    "\n",
    "print(a)\n",
    "print(b)"
   ]
  },
  {
   "cell_type": "code",
   "execution_count": 22,
   "metadata": {
    "colab": {
     "base_uri": "https://localhost:8080/"
    },
    "id": "MgeWLFhW1p7F",
    "outputId": "d766b914-3c9f-41d1-99ef-d16ba41bba95"
   },
   "outputs": [
    {
     "name": "stdout",
     "output_type": "stream",
     "text": [
      "[1, 2, 3, 4]\n",
      "[1, 3, 4]\n"
     ]
    }
   ],
   "source": [
    "# Методы для работы со списками\n",
    "\n",
    "a = [1,2,3]\n",
    "a.append(4)\n",
    "\n",
    "print(a)\n",
    "\n",
    "a = [3, 4, 1]\n",
    "a.sort()\n",
    "\n",
    "print(a)"
   ]
  },
  {
   "cell_type": "markdown",
   "metadata": {
    "id": "6VXQPqqU1p7G"
   },
   "source": [
    "# Циклы"
   ]
  },
  {
   "cell_type": "code",
   "execution_count": 23,
   "metadata": {
    "colab": {
     "base_uri": "https://localhost:8080/"
    },
    "id": "fYB_kXT71p7G",
    "outputId": "78daef82-faf2-459f-9c4f-ed6a25f4052d"
   },
   "outputs": [
    {
     "name": "stdout",
     "output_type": "stream",
     "text": [
      "1\n",
      "2\n",
      "3\n"
     ]
    }
   ],
   "source": [
    "for i in [1,2,3]:\n",
    "    print(i)"
   ]
  },
  {
   "cell_type": "code",
   "execution_count": 24,
   "metadata": {},
   "outputs": [
    {
     "name": "stdout",
     "output_type": "stream",
     "text": [
      "5\n"
     ]
    }
   ],
   "source": [
    "# Цикл while\n",
    "\n",
    "a = 0\n",
    "\n",
    "while a < 5:\n",
    "    a += 1\n",
    "    \n",
    "print(a)"
   ]
  },
  {
   "cell_type": "code",
   "execution_count": 25,
   "metadata": {},
   "outputs": [
    {
     "name": "stdout",
     "output_type": "stream",
     "text": [
      "11\n"
     ]
    }
   ],
   "source": [
    "# Выход из цикла\n",
    "\n",
    "a = 0\n",
    "\n",
    "while True:\n",
    "    a += 1\n",
    "    if a > 10:\n",
    "        break\n",
    "    \n",
    "print(a)"
   ]
  },
  {
   "cell_type": "code",
   "execution_count": 26,
   "metadata": {
    "colab": {
     "base_uri": "https://localhost:8080/"
    },
    "id": "SivXpnyk1p7G",
    "outputId": "988dd7a8-3bfb-4a3c-a0e2-46871458e8da"
   },
   "outputs": [
    {
     "name": "stdout",
     "output_type": "stream",
     "text": [
      "2\n",
      "4\n",
      "6\n",
      "8\n"
     ]
    }
   ],
   "source": [
    "# Генератор арифметической последовательности\n",
    "\n",
    "for i in range(2, 10, 2):\n",
    "    print(i)"
   ]
  },
  {
   "cell_type": "code",
   "execution_count": 27,
   "metadata": {
    "colab": {
     "base_uri": "https://localhost:8080/"
    },
    "id": "QaO0QBgC1p7G",
    "outputId": "f1a43bc5-c02d-4462-b19a-4162c44114a8"
   },
   "outputs": [
    {
     "name": "stdout",
     "output_type": "stream",
     "text": [
      "5 2\n",
      "1 4\n",
      "2 1\n",
      "5 7\n",
      "23 6\n",
      "3 8\n"
     ]
    }
   ],
   "source": [
    "# Цикл с индекосм\n",
    "\n",
    "a = [5, 1, 2, 5, 23, 3]\n",
    "b = [2, 4, 1, 7, 6, 8]\n",
    "\n",
    "for i in range(len(a)):\n",
    "    print(a[i], b[i])"
   ]
  },
  {
   "cell_type": "code",
   "execution_count": 28,
   "metadata": {
    "colab": {
     "base_uri": "https://localhost:8080/"
    },
    "id": "acpnNuG91p7G",
    "outputId": "885f7174-f603-4b74-d2df-5fd89d3117ba"
   },
   "outputs": [
    {
     "name": "stdout",
     "output_type": "stream",
     "text": [
      "[0, 1, 2, 3, 4]\n"
     ]
    }
   ],
   "source": [
    "# Цикл для создания списка (списковые включения)\n",
    "\n",
    "a = [i for i in range(5)]\n",
    "print(a)"
   ]
  },
  {
   "cell_type": "code",
   "execution_count": 29,
   "metadata": {
    "colab": {
     "base_uri": "https://localhost:8080/"
    },
    "id": "mWz9J3dj1p7H",
    "outputId": "df3fe9d3-3a13-419a-f06d-c9e3d8425fdf"
   },
   "outputs": [
    {
     "name": "stdout",
     "output_type": "stream",
     "text": [
      "[0, 0, 0, 0, 0, 0, 0, 0]\n"
     ]
    }
   ],
   "source": [
    "# Размножение списков\n",
    "\n",
    "a = [0] * 8\n",
    "\n",
    "print(a)"
   ]
  },
  {
   "cell_type": "code",
   "execution_count": 30,
   "metadata": {
    "colab": {
     "base_uri": "https://localhost:8080/"
    },
    "id": "i17JCxIA1p7H",
    "outputId": "0ae4273e-735f-4708-bf8b-24debf8cdc77"
   },
   "outputs": [
    {
     "name": "stdout",
     "output_type": "stream",
     "text": [
      "[0, 0, 2, 0, 0, 0, 0, 0]\n",
      "[0, 0, 2, 0, 0, 0, 0, 0]\n",
      "[0, 0, 2, 0, 0, 0, 0, 0]\n",
      "[0, 0, 2, 0, 0, 0, 0, 0]\n",
      "[0, 0, 2, 0, 0, 0, 0, 0]\n",
      "[0, 0, 2, 0, 0, 0, 0, 0]\n",
      "[0, 0, 2, 0, 0, 0, 0, 0]\n",
      "[0, 0, 2, 0, 0, 0, 0, 0]\n"
     ]
    }
   ],
   "source": [
    "# Неправильное заполнение двумерного списка нулями\n",
    "\n",
    "a = [[0] * 8] * 8\n",
    "a[0][2] = 2\n",
    "\n",
    "for i in a:\n",
    "    print(i)"
   ]
  },
  {
   "cell_type": "code",
   "execution_count": 31,
   "metadata": {
    "colab": {
     "base_uri": "https://localhost:8080/"
    },
    "id": "ngyyRP1d1p7H",
    "outputId": "7ca8c1ce-07b2-4af4-dfb7-cc3665af2485"
   },
   "outputs": [
    {
     "name": "stdout",
     "output_type": "stream",
     "text": [
      "[16, 16, 16, 16, 16, 16, 16, 16]\n",
      "[16, 16, 16, 16, 16, 16, 16, 16]\n",
      "[16, 16, 16, 16, 16, 16, 16, 16]\n",
      "[16, 16, 16, 16, 16, 16, 16, 16]\n",
      "[16, 16, 16, 16, 16, 16, 16, 16]\n",
      "[16, 16, 2, 16, 16, 16, 16, 16]\n",
      "[16, 16, 16, 16, 16, 16, 16, 16]\n",
      "[16, 16, 16, 16, 16, 16, 16, 16]\n"
     ]
    }
   ],
   "source": [
    "# Неправильное заполнение двумерного списка нулями\n",
    "\n",
    "a = [[16] * 8 for i in range(8)]\n",
    "a[5][2] = 2\n",
    "\n",
    "for i in a:\n",
    "    print(i)"
   ]
  },
  {
   "cell_type": "code",
   "execution_count": 32,
   "metadata": {
    "colab": {
     "base_uri": "https://localhost:8080/"
    },
    "id": "stZOXit_pE9N",
    "outputId": "6af0030b-7a26-492b-bf16-d73c401e27e0"
   },
   "outputs": [
    {
     "name": "stdout",
     "output_type": "stream",
     "text": [
      "[16, 16, 16, 16, 16, 16, 16, 16]\n",
      "[16, 16, 16, 16, 16, 16, 16, 16]\n",
      "[16, 16, 16, 16, 16, 16, 16, 16]\n",
      "[16, 16, 16, 16, 16, 16, 16, 16]\n",
      "[16, 16, 16, 16, 16, 16, 16, 16]\n",
      "[16, 16, 2, 16, 16, 16, 16, 16]\n",
      "[16, 16, 16, 16, 16, 16, 16, 16]\n",
      "[16, 16, 16, 16, 16, 16, 16, 16]\n"
     ]
    }
   ],
   "source": [
    "# Неправильное заполнение двумерного списка нулями\n",
    "\n",
    "a = [[16] * 8 for i in range(8)]\n",
    "a[-3][2] = 2\n",
    "\n",
    "for i in a:\n",
    "    print(i)"
   ]
  },
  {
   "cell_type": "code",
   "execution_count": 33,
   "metadata": {
    "colab": {
     "base_uri": "https://localhost:8080/"
    },
    "id": "UF29Clay1p7H",
    "outputId": "324cda94-6a8c-4ec0-f586-dd5a86305f19"
   },
   "outputs": [
    {
     "name": "stdout",
     "output_type": "stream",
     "text": [
      "[1, 2, 3, 1, 2, 3]\n"
     ]
    }
   ],
   "source": [
    "# Конкатенация списков\n",
    "\n",
    "a = [1,2,3] + [1,2,3]\n",
    "\n",
    "print(a)"
   ]
  },
  {
   "cell_type": "code",
   "execution_count": 34,
   "metadata": {
    "id": "e0cPXl681p7H"
   },
   "outputs": [
    {
     "name": "stdout",
     "output_type": "stream",
     "text": [
      "Num: 0, Square 0\n",
      "Num: 1, Square 1\n",
      "Num: 2, Square 4\n",
      "Num: 3, Square 9\n",
      "Num: 4, Square 16\n",
      "Num: 5, Square 25\n",
      "Num: 6, Square 36\n",
      "Num: 7, Square 49\n"
     ]
    }
   ],
   "source": [
    "# Распаковка при помощи цикла\n",
    "\n",
    "a = [[j, j ** 2] for j in range(8)]\n",
    "\n",
    "for num, sq in a:\n",
    "    print('Num: {}, Square {}'.format(num, sq))"
   ]
  },
  {
   "cell_type": "markdown",
   "metadata": {
    "id": "lhc4owzv1p7H"
   },
   "source": [
    "# Кортежи"
   ]
  },
  {
   "cell_type": "code",
   "execution_count": 35,
   "metadata": {
    "colab": {
     "base_uri": "https://localhost:8080/"
    },
    "id": "Dg8DfX511p7H",
    "outputId": "4d249b38-e878-47a3-99bb-7c94c87d9eeb"
   },
   "outputs": [
    {
     "name": "stdout",
     "output_type": "stream",
     "text": [
      "(5, 2)\n",
      "<class 'tuple'>\n",
      "2\n"
     ]
    }
   ],
   "source": [
    "# Кортежи в функциях\n",
    "\n",
    "def find_max(x):\n",
    "    ind = 0\n",
    "    maximum = x[0]\n",
    "    for i in range(1,len(x)):\n",
    "        if x[i] > maximum:\n",
    "            maximum = x[i]\n",
    "            ind = i\n",
    "    return maximum, ind\n",
    "\n",
    "out = find_max([4,3,5])\n",
    "\n",
    "print(out)\n",
    "print(type(out))\n",
    "print(out[1])"
   ]
  },
  {
   "cell_type": "code",
   "execution_count": 36,
   "metadata": {
    "colab": {
     "base_uri": "https://localhost:8080/"
    },
    "id": "TdMidygM1p7I",
    "outputId": "45473d07-35d7-43f1-d775-220d4cca897f"
   },
   "outputs": [
    {
     "name": "stdout",
     "output_type": "stream",
     "text": [
      "5 2\n"
     ]
    }
   ],
   "source": [
    "# Распаковка кортежа\n",
    "\n",
    "maximum, index = find_max([4,3,5])\n",
    "\n",
    "print(maximum, index)"
   ]
  },
  {
   "cell_type": "markdown",
   "metadata": {
    "id": "evsZOQQL1p7I"
   },
   "source": [
    "# Множества и словари"
   ]
  },
  {
   "cell_type": "code",
   "execution_count": 37,
   "metadata": {
    "colab": {
     "base_uri": "https://localhost:8080/"
    },
    "id": "jt2-Xoiq1p7I",
    "outputId": "6f3f6857-4808-4600-f3de-a1aa9492628c"
   },
   "outputs": [
    {
     "name": "stdout",
     "output_type": "stream",
     "text": [
      "1\n",
      "2\n",
      "3\n",
      "4\n",
      "5\n"
     ]
    }
   ],
   "source": [
    "# Множество\n",
    "\n",
    "a = set([2,3,2,4,2,3,1,5])\n",
    "a = {2,3,2,4,2,3,1,5}\n",
    "for i in a:\n",
    "    print(i)"
   ]
  },
  {
   "cell_type": "code",
   "execution_count": 38,
   "metadata": {
    "colab": {
     "base_uri": "https://localhost:8080/"
    },
    "id": "XnRJNMAk1p7I",
    "outputId": "4c37195d-cbec-4d07-9971-a8566002f683"
   },
   "outputs": [
    {
     "name": "stdout",
     "output_type": "stream",
     "text": [
      "one\n",
      "two\n",
      "1\n",
      "2\n",
      "one 1\n",
      "two 2\n"
     ]
    }
   ],
   "source": [
    "# Словарь\n",
    "\n",
    "a = {'one': 1, 'two': 2}\n",
    "for i in a:\n",
    "    print(i)\n",
    "for i in a:\n",
    "    print(a[i])\n",
    "for i, j in a.items():\n",
    "    print(i, j)"
   ]
  },
  {
   "cell_type": "code",
   "execution_count": 39,
   "metadata": {
    "colab": {
     "base_uri": "https://localhost:8080/"
    },
    "id": "s2rpcPVVd4bv",
    "outputId": "9435b36b-88dd-47fd-8015-522297a09b9d"
   },
   "outputs": [
    {
     "name": "stdout",
     "output_type": "stream",
     "text": [
      "2\n"
     ]
    }
   ],
   "source": [
    "# Запись данных в словарь\n",
    "\n",
    "a = set() # Множество\n",
    "a = {} # Словарь\n",
    "\n",
    "a['one'] = 1\n",
    "a['two'] = 2\n",
    "\n",
    "print(a['two'])"
   ]
  },
  {
   "cell_type": "markdown",
   "metadata": {
    "id": "ZwCVw1SO1p7J"
   },
   "source": [
    "# NumPy"
   ]
  },
  {
   "cell_type": "code",
   "execution_count": 40,
   "metadata": {
    "id": "oWndoxGZ1p7K"
   },
   "outputs": [],
   "source": [
    "# Импорт библиотеки\n",
    "\n",
    "import numpy as np"
   ]
  },
  {
   "cell_type": "code",
   "execution_count": 41,
   "metadata": {
    "colab": {
     "base_uri": "https://localhost:8080/"
    },
    "id": "NAllQl7c1p7K",
    "outputId": "77d1c583-84d8-4eb4-b89c-add72669265a"
   },
   "outputs": [
    {
     "name": "stdout",
     "output_type": "stream",
     "text": [
      "[1 2 3 4]\n"
     ]
    }
   ],
   "source": [
    "# Инициализация массива из списка\n",
    "\n",
    "a = np.array([1,2,3,4], dtype = np.int64)\n",
    "\n",
    "print(a)"
   ]
  },
  {
   "cell_type": "code",
   "execution_count": 42,
   "metadata": {
    "colab": {
     "base_uri": "https://localhost:8080/"
    },
    "id": "xo7hwR3J1p7K",
    "outputId": "fffb6a38-01e9-43ad-d5f3-9e3b3246b360"
   },
   "outputs": [
    {
     "name": "stdout",
     "output_type": "stream",
     "text": [
      "[[[-0.36752041 -0.1369348   1.23827967]\n",
      "  [-0.33363745 -0.33881861 -0.2313848 ]\n",
      "  [ 1.15720182  0.10836453  0.53490611]]\n",
      "\n",
      " [[ 1.82553574  0.82574344 -0.74706962]\n",
      "  [-0.77405361 -1.47245509  0.55276991]\n",
      "  [-2.21553918 -0.43341112 -1.52787228]]\n",
      "\n",
      " [[ 0.6800313  -1.00901773 -1.67679634]\n",
      "  [ 2.10681455 -0.50354704  0.60081533]\n",
      "  [ 1.37125283 -1.02512855  0.47292733]]]\n"
     ]
    }
   ],
   "source": [
    "# Инициализация случайного массива\n",
    "\n",
    "a = np.random.randn(3,3,3)\n",
    "\n",
    "print(a)"
   ]
  },
  {
   "cell_type": "code",
   "execution_count": 43,
   "metadata": {},
   "outputs": [
    {
     "name": "stdout",
     "output_type": "stream",
     "text": [
      "[[0. 0. 0. 0.]\n",
      " [0. 0. 0. 0.]\n",
      " [0. 0. 0. 0.]]\n"
     ]
    }
   ],
   "source": [
    "# Массив из нулей\n",
    "\n",
    "n=3\n",
    "m=4\n",
    "\n",
    "zeros = np.zeros((n, m))\n",
    "\n",
    "print(zeros)"
   ]
  },
  {
   "cell_type": "code",
   "execution_count": 44,
   "metadata": {},
   "outputs": [
    {
     "name": "stdout",
     "output_type": "stream",
     "text": [
      "[[1. 1. 1. 1.]\n",
      " [1. 1. 1. 1.]\n",
      " [1. 1. 1. 1.]]\n"
     ]
    }
   ],
   "source": [
    "# Массив из единиц\n",
    "\n",
    "n=3\n",
    "m=4\n",
    "\n",
    "ones = np.ones((n, m))\n",
    "\n",
    "print(ones)"
   ]
  },
  {
   "cell_type": "code",
   "execution_count": 45,
   "metadata": {
    "colab": {
     "base_uri": "https://localhost:8080/"
    },
    "id": "uWXaEJof1p7K",
    "outputId": "56a0b72f-0b4d-4ea2-9bdb-6b8b88a9b24f"
   },
   "outputs": [
    {
     "name": "stdout",
     "output_type": "stream",
     "text": [
      "(3, 3, 3)\n",
      "3\n"
     ]
    }
   ],
   "source": [
    "# Определение размера\n",
    "\n",
    "print(a.shape)\n",
    "print(a.shape[0])"
   ]
  },
  {
   "cell_type": "code",
   "execution_count": 46,
   "metadata": {},
   "outputs": [],
   "source": [
    "a = np.random.randn(8,3)"
   ]
  },
  {
   "cell_type": "code",
   "execution_count": 47,
   "metadata": {
    "colab": {
     "base_uri": "https://localhost:8080/"
    },
    "id": "D12q77cB1p7K",
    "outputId": "0d67dc7e-1738-40d9-ce1a-f448781ad436"
   },
   "outputs": [
    {
     "name": "stdout",
     "output_type": "stream",
     "text": [
      "1.834031449605845\n"
     ]
    }
   ],
   "source": [
    "# Операции над массивами\n",
    "\n",
    "print(a.max())"
   ]
  },
  {
   "cell_type": "code",
   "execution_count": 48,
   "metadata": {},
   "outputs": [
    {
     "name": "stdout",
     "output_type": "stream",
     "text": [
      "a.T:\n",
      " [[ 1.83403145 -1.06501621 -1.14916608 -1.68256121 -1.36086557  0.7317988\n",
      "  -2.33598151 -1.5088327 ]\n",
      " [ 1.35704206 -0.2040006  -0.10595606  0.85610207  1.38612922  1.05944151\n",
      "  -0.99828917  0.72663981]\n",
      " [ 0.14347133  0.81400583  1.39180807 -0.71370414 -2.01446232 -0.33064874\n",
      "  -1.07275869  1.05444255]] \n",
      "\n",
      "a.reshape(6, 4):\n",
      " [[ 1.83403145  1.35704206  0.14347133 -1.06501621]\n",
      " [-0.2040006   0.81400583 -1.14916608 -0.10595606]\n",
      " [ 1.39180807 -1.68256121  0.85610207 -0.71370414]\n",
      " [-1.36086557  1.38612922 -2.01446232  0.7317988 ]\n",
      " [ 1.05944151 -0.33064874 -2.33598151 -0.99828917]\n",
      " [-1.07275869 -1.5088327   0.72663981  1.05444255]] \n",
      "\n"
     ]
    }
   ],
   "source": [
    "# Преобразование массивов\n",
    "\n",
    "print('a.T:\\n', a.T, '\\n')\n",
    "print('a.reshape(6, 4):\\n', a.reshape(6, 4), '\\n')"
   ]
  },
  {
   "cell_type": "code",
   "execution_count": 49,
   "metadata": {},
   "outputs": [
    {
     "name": "stdout",
     "output_type": "stream",
     "text": [
      "[[ 1.83403145  1.35704206  0.14347133]\n",
      " [-1.06501621 -0.2040006   0.81400583]\n",
      " [-1.14916608 -0.10595606  1.39180807]\n",
      " [-1.68256121  0.85610207 -0.71370414]\n",
      " [-1.36086557  1.38612922 -2.01446232]\n",
      " [ 0.7317988   1.05944151 -0.33064874]\n",
      " [-2.33598151 -0.99828917 -1.07275869]\n",
      " [-1.5088327   0.72663981  1.05444255]]\n",
      "[-2.33598151 -0.99828917 -2.01446232]\n"
     ]
    }
   ],
   "source": [
    "# Параметр axis\n",
    "\n",
    "print(a)\n",
    "print(a.min(axis=0))"
   ]
  },
  {
   "cell_type": "code",
   "execution_count": 50,
   "metadata": {
    "colab": {
     "base_uri": "https://localhost:8080/"
    },
    "id": "KVsXsDrV1p7K",
    "outputId": "d2fc92de-c22f-4de6-9998-866337bed41d"
   },
   "outputs": [
    {
     "name": "stdout",
     "output_type": "stream",
     "text": [
      "a[:-2]:\n",
      " [[ 1.83403145  1.35704206  0.14347133]\n",
      " [-1.06501621 -0.2040006   0.81400583]\n",
      " [-1.14916608 -0.10595606  1.39180807]\n",
      " [-1.68256121  0.85610207 -0.71370414]\n",
      " [-1.36086557  1.38612922 -2.01446232]\n",
      " [ 0.7317988   1.05944151 -0.33064874]] \n",
      "\n",
      "a[2, :]:\n",
      " [-1.14916608 -0.10595606  1.39180807] \n",
      "\n",
      "a[2, 3]:\n",
      " -0.10595606201293181 \n",
      "\n"
     ]
    }
   ],
   "source": [
    "# Срезы массивов\n",
    "\n",
    "print('a[:-2]:\\n', a[:-2], '\\n')\n",
    "print('a[2, :]:\\n', a[2, :], '\\n')\n",
    "print('a[2, 3]:\\n', a[2, 1], '\\n')"
   ]
  },
  {
   "cell_type": "code",
   "execution_count": 51,
   "metadata": {},
   "outputs": [
    {
     "name": "stdout",
     "output_type": "stream",
     "text": [
      "[[0. 0. 0.]\n",
      " [0. 0. 0.]\n",
      " [0. 0. 0.]\n",
      " [0. 0. 0.]\n",
      " [0. 0. 0.]\n",
      " [0. 0. 0.]\n",
      " [0. 0. 0.]\n",
      " [0. 0. 0.]] \n",
      "\n",
      "[[  0.   0.   0.]\n",
      " [  0.   0.   0.]\n",
      " [  0.   0.   0.]\n",
      " [  0.   0.   0.]\n",
      " [  0.   0.   0.]\n",
      " [  0.   0.   0.]\n",
      " [  0.   0. 199.]\n",
      " [  0.   0.   0.]] \n",
      "\n",
      "[[  1.   0.   0.]\n",
      " [  1.   0.   0.]\n",
      " [  1.   0.   0.]\n",
      " [  1.   0.   0.]\n",
      " [  1.   0.   0.]\n",
      " [  1.   0.   0.]\n",
      " [  1.   0. 199.]\n",
      " [  1.   0.   0.]] \n",
      "\n",
      "[[  1.   0.   0.]\n",
      " [  0.   1.   2.]\n",
      " [  3.   4.   5.]\n",
      " [  1.   0.   0.]\n",
      " [  1.   0.   0.]\n",
      " [  1.   0.   0.]\n",
      " [  1.   0. 199.]\n",
      " [  1.   0.   0.]] \n",
      "\n"
     ]
    }
   ],
   "source": [
    "# Присваивание значений элементам массивов\n",
    "a = np.zeros((8, 3))\n",
    "\n",
    "print(a, '\\n')\n",
    "\n",
    "a[6, 2] = 199\n",
    "\n",
    "print(a, '\\n')\n",
    "\n",
    "a[:, 0] = 1\n",
    "\n",
    "print(a, '\\n')\n",
    "\n",
    "a[1:3, :] = np.arange(6).reshape(2, 3)\n",
    "\n",
    "print(a, '\\n')"
   ]
  },
  {
   "cell_type": "code",
   "execution_count": 52,
   "metadata": {
    "colab": {
     "base_uri": "https://localhost:8080/"
    },
    "id": "GQTeyaBF1p7K",
    "outputId": "0ee64c82-9355-488c-82ce-3ce6fa398f1d"
   },
   "outputs": [
    {
     "name": "stdout",
     "output_type": "stream",
     "text": [
      "a:\n",
      " [[ 2.         -0.59563224]\n",
      " [ 0.31150495 -0.50607019]] \n",
      "\n",
      "b:\n",
      " [[ 2.         -0.19299738]\n",
      " [-0.32727097 -0.03859759]] \n",
      "\n",
      "np.add(a, b):\n",
      " [[ 4.         -0.78862962]\n",
      " [-0.01576602 -0.54466778]] \n",
      "\n",
      "a + b:\n",
      " [[ 4.         -0.78862962]\n",
      " [-0.01576602 -0.54466778]] \n",
      "\n",
      "a + b:\n",
      " [[ 0.         -0.40263486]\n",
      " [ 0.63877593 -0.4674726 ]] \n",
      "\n",
      "a + b:\n",
      " [[ 4.          0.11495546]\n",
      " [-0.10194653  0.01953309]] \n",
      "\n",
      "a + b:\n",
      " [[ 1.          3.08621927]\n",
      " [-0.9518258  13.11144617]] \n",
      "\n",
      "b == a:\n",
      " [[ True False]\n",
      " [False False]] \n",
      "\n"
     ]
    }
   ],
   "source": [
    "# Операции с несколькими массивами\n",
    "\n",
    "a = np.random.randn(2,2)\n",
    "b = np.random.randn(2,2)\n",
    "a[0, 0], b[0, 0] = 2, 2\n",
    "\n",
    "print(f'a:\\n', a, '\\n')\n",
    "print(f'b:\\n', b, '\\n')\n",
    "print(f'np.add(a, b):\\n', np.add(a, b), '\\n')\n",
    "print(f'a + b:\\n', a + b, '\\n')\n",
    "print(f'a + b:\\n', a - b, '\\n')\n",
    "print(f'a + b:\\n', a * b, '\\n')\n",
    "print(f'a + b:\\n', a / b, '\\n')\n",
    "print(f'b == a:\\n', b == a, '\\n')\n"
   ]
  },
  {
   "cell_type": "code",
   "execution_count": 53,
   "metadata": {
    "colab": {
     "base_uri": "https://localhost:8080/"
    },
    "id": "xwtAfylI1p7L",
    "outputId": "822fde66-30a2-4ed5-d397-46c0645098c1"
   },
   "outputs": [
    {
     "name": "stdout",
     "output_type": "stream",
     "text": [
      "a -\n",
      "[[-0.66380278 -1.0454232  -1.14444582]\n",
      " [ 0.09328867  0.29444761  0.26662982]\n",
      " [-0.04948366  0.96345848  0.39303813]\n",
      " [-0.18142962 -1.01461713 -0.4082647 ]\n",
      " [ 0.50509867  2.08602755 -0.41506929]]\n",
      "b -\n",
      "[[-0.87204634  0.48431736 -0.25347163  0.24448339]\n",
      " [ 0.50809217  0.69789588 -1.79609359 -0.89443163]\n",
      " [ 1.02443287  0.87143255 -0.41603945 -1.4670939 ]]\n",
      "c -\n",
      "[[-1.12471247 -2.0483951   2.52206769  2.4517803 ]\n",
      " [ 0.34139884  0.48302501 -0.66343002 -0.63172672]\n",
      " [ 0.93531894  0.99093413 -1.88143826 -1.45046952]\n",
      " [-0.77554377 -1.15174178  2.03818881  1.46211179]\n",
      " [ 0.19421419  1.33875319 -3.7020437  -1.13337517]]\n",
      "size of c -\n",
      "(5, 4)\n"
     ]
    }
   ],
   "source": [
    "# Матричное умножение\n",
    "\n",
    "a = np.random.randn(5,3)\n",
    "b = np.random.randn(3,4)\n",
    "\n",
    "c = np.matmul(a, b)\n",
    "\n",
    "print(f'a -\\n{a}')\n",
    "print(f'b -\\n{b}')\n",
    "print(f'c -\\n{c}')\n",
    "print(f'size of c -\\n{c.shape}')"
   ]
  },
  {
   "cell_type": "code",
   "execution_count": 54,
   "metadata": {},
   "outputs": [
    {
     "name": "stdout",
     "output_type": "stream",
     "text": [
      "a -\n",
      "[[ 1.27948121  1.09324156 -1.16274691]\n",
      " [-0.04159024  0.60617988 -0.1391126 ]\n",
      " [ 0.11928578  0.29951985 -0.12756542]\n",
      " [ 0.72102125  0.30368319  2.52052306]\n",
      " [ 0.28128116  1.02964543  0.67237313]]\n",
      "b -\n",
      "[[ 0.51689404 -0.78111553  0.90206975  0.09702242]\n",
      " [ 2.14045725  0.2423674  -0.45663957  0.19870888]\n",
      " [ 1.3918243   0.08854863  0.90307917 -0.48552056]]\n",
      "c -\n",
      "[[ 1.38305362 -0.83741617 -0.39508857  0.9059127 ]\n",
      " [ 1.08238407  0.16708679 -0.43995271  0.18396016]\n",
      " [ 0.52521889 -0.03187787 -0.14437019  0.13302628]\n",
      " [ 4.5308377  -0.26640913  2.78796956 -1.09346598]\n",
      " [ 3.28512984  0.08937712  0.39076455 -0.09456071]]\n",
      "size of c -\n",
      "(5, 4)\n"
     ]
    }
   ],
   "source": [
    "# Матричное умножение\n",
    "\n",
    "a = np.random.randn(5,3)\n",
    "b = np.random.randn(3,4)\n",
    "\n",
    "c = np.matmul(a, b)\n",
    "\n",
    "print(f'a -\\n{a}')\n",
    "print(f'b -\\n{b}')\n",
    "print(f'c -\\n{c}')\n",
    "print(f'size of c -\\n{c.shape}')"
   ]
  },
  {
   "cell_type": "code",
   "execution_count": 55,
   "metadata": {
    "colab": {
     "base_uri": "https://localhost:8080/"
    },
    "id": "POpWlQRmkZVp",
    "outputId": "1dfdcd28-c02b-49fa-c9f7-d806b7e39eda"
   },
   "outputs": [
    {
     "name": "stdout",
     "output_type": "stream",
     "text": [
      "a:\n",
      " [0 0 1 2 0 1] \n",
      "\n",
      "b:\n",
      " [[ 0.45840765 -1.03558338 -1.27169169]\n",
      " [ 0.29235695 -0.47364856  0.27848824]\n",
      " [ 0.01665273 -0.78857242  0.25102345]\n",
      " [ 1.77800553  0.46882634 -1.93397488]\n",
      " [ 1.32380251 -0.91571303 -0.61044254]\n",
      " [-0.36517852  0.1197201  -0.98913533]] \n",
      "\n",
      "a == 0: \n",
      " [ True  True False False  True False] \n",
      "\n",
      "b[a == 0]: \n",
      " [[ 0.45840765 -1.03558338 -1.27169169]\n",
      " [ 0.29235695 -0.47364856  0.27848824]\n",
      " [ 1.32380251 -0.91571303 -0.61044254]] \n",
      "\n",
      "b[a == 0, 1]: \n",
      " [-1.03558338 -0.47364856 -0.91571303] \n",
      "\n",
      "(a == 0).sum(): \n",
      " 3 \n",
      "\n",
      "(b > 0).sum(): \n",
      " 3 \n",
      "\n"
     ]
    }
   ],
   "source": [
    "# Булева индексация\n",
    "\n",
    "a = np.array([0, 0, 1, 2, 0, 1])\n",
    "b = np.random.randn(6, 3)\n",
    "print('a:\\n', a, '\\n')\n",
    "print('b:\\n', b, '\\n')\n",
    "print('a == 0: \\n', a == 0, '\\n')\n",
    "print('b[a == 0]: \\n', b[a == 0], '\\n')\n",
    "print('b[a == 0, 1]: \\n', b[a == 0, 1], '\\n')\n",
    "print('(a == 0).sum(): \\n', (a == 0).sum(), '\\n')\n",
    "print('(b > 0).sum(): \\n', (a == 0).sum(), '\\n')"
   ]
  },
  {
   "cell_type": "code",
   "execution_count": 56,
   "metadata": {},
   "outputs": [
    {
     "data": {
      "text/plain": [
       "array([[ 1.,  2.,  3.],\n",
       "       [11., 12., 13.],\n",
       "       [21., 22., 23.],\n",
       "       [31., 32., 33.]])"
      ]
     },
     "execution_count": 56,
     "metadata": {},
     "output_type": "execute_result"
    }
   ],
   "source": [
    "# Broadcasting\n",
    "\n",
    "a = np.array([[ 0.0,  0.0,  0.0],\n",
    "              [10.0, 10.0, 10.0],\n",
    "              [20.0, 20.0, 20.0],\n",
    "              [30.0, 30.0, 30.0]])\n",
    "b = np.array([1.0, 2.0, 3.0])\n",
    "\n",
    "a + b"
   ]
  },
  {
   "attachments": {
    "image.png": {
     "image/png": "[encoded data removed]"
    }
   },
   "cell_type": "markdown",
   "metadata": {},
   "source": [
    "![image.png](attachment:image.png)"
   ]
  },
  {
   "cell_type": "code",
   "execution_count": 57,
   "metadata": {},
   "outputs": [
    {
     "ename": "ValueError",
     "evalue": "operands could not be broadcast together with shapes (4,3) (4,) ",
     "output_type": "error",
     "traceback": [
      "\u001b[1;31m---------------------------------------------------------------------------\u001b[0m",
      "\u001b[1;31mValueError\u001b[0m                                Traceback (most recent call last)",
      "Cell \u001b[1;32mIn [57], line 2\u001b[0m\n\u001b[0;32m      1\u001b[0m b \u001b[38;5;241m=\u001b[39m np\u001b[38;5;241m.\u001b[39marray([\u001b[38;5;241m1.0\u001b[39m, \u001b[38;5;241m2.0\u001b[39m, \u001b[38;5;241m3.0\u001b[39m, \u001b[38;5;241m4.0\u001b[39m])\n\u001b[1;32m----> 2\u001b[0m \u001b[43ma\u001b[49m\u001b[43m \u001b[49m\u001b[38;5;241;43m+\u001b[39;49m\u001b[43m \u001b[49m\u001b[43mb\u001b[49m\n",
      "\u001b[1;31mValueError\u001b[0m: operands could not be broadcast together with shapes (4,3) (4,) "
     ]
    }
   ],
   "source": [
    "b = np.array([1.0, 2.0, 3.0, 4.0])\n",
    "a + b"
   ]
  },
  {
   "attachments": {
    "image-2.png": {
     "image/png": "[encoded data removed]"
    }
   },
   "cell_type": "markdown",
   "metadata": {},
   "source": [
    "![image-2.png](attachment:image-2.png)"
   ]
  },
  {
   "cell_type": "code",
   "execution_count": 58,
   "metadata": {},
   "outputs": [
    {
     "name": "stdout",
     "output_type": "stream",
     "text": [
      "int32\n",
      "float32\n",
      "float64\n"
     ]
    }
   ],
   "source": [
    "# Приведение к нужному типу данных\n",
    "\n",
    "a = np.array([1, 2, 3])\n",
    "\n",
    "print(a.dtype)\n",
    "\n",
    "b = a.copy().astype(np.float32)\n",
    "\n",
    "print(b.dtype)\n",
    "\n",
    "c = np.array([1, 2, 3], dtype=np.float64)\n",
    "\n",
    "print(c.dtype)"
   ]
  },
  {
   "cell_type": "code",
   "execution_count": 59,
   "metadata": {},
   "outputs": [
    {
     "name": "stdout",
     "output_type": "stream",
     "text": [
      "[[ 0.28217129 -0.29363734  0.90110958  1.51997153  0.08235357]\n",
      " [ 0.0684208  -1.45904016  0.72435703 -0.04554222  0.55240483]\n",
      " [-1.10073409 -0.20189499 -0.15310822  0.31148037 -0.2062259 ]] \n",
      "\n",
      "Элемент a[0, 0]\n",
      "0.2821712915962908\n",
      "Элемент a[0, 1]\n",
      "-0.2936373390797275\n",
      "Элемент a[0, 2]\n",
      "0.9011095786486528\n",
      "Элемент a[0, 3]\n",
      "1.5199715316680527\n",
      "Элемент a[0, 4]\n",
      "0.08235356895791432\n",
      "Элемент a[1, 0]\n",
      "0.06842080043037792\n",
      "Элемент a[1, 1]\n",
      "-1.4590401623709228\n",
      "Элемент a[1, 2]\n",
      "0.724357025873243\n",
      "Элемент a[1, 3]\n",
      "-0.045542219394548035\n",
      "Элемент a[1, 4]\n",
      "0.5524048334849211\n",
      "Элемент a[2, 0]\n",
      "-1.1007340941777417\n",
      "Элемент a[2, 1]\n",
      "-0.20189499196987903\n",
      "Элемент a[2, 2]\n",
      "-0.153108219430548\n",
      "Элемент a[2, 3]\n",
      "0.31148036948744956\n",
      "Элемент a[2, 4]\n",
      "-0.20622589854792975\n"
     ]
    }
   ],
   "source": [
    "# Перебор элементов двумерного массива\n",
    "\n",
    "a = np.random.randn(3, 5)\n",
    "\n",
    "print(a, '\\n')\n",
    "\n",
    "for i in range(a.shape[0]):\n",
    "    for j in range(a.shape[1]):\n",
    "        print(f'Элемент a[{i}, {j}]')\n",
    "        print(a[i, j])"
   ]
  },
  {
   "cell_type": "code",
   "execution_count": 60,
   "metadata": {},
   "outputs": [
    {
     "name": "stdout",
     "output_type": "stream",
     "text": [
      "[0.5 0.6 0.7 0.8 0.9 1.  1.1 1.2 1.3 1.4 1.5 1.6 1.7 1.8 1.9 2.  2.1 2.2\n",
      " 2.3 2.4]\n",
      "[0.5        0.52020202 0.54040404 0.56060606 0.58080808 0.6010101\n",
      " 0.62121212 0.64141414 0.66161616 0.68181818 0.7020202  0.72222222\n",
      " 0.74242424 0.76262626 0.78282828 0.8030303  0.82323232 0.84343434\n",
      " 0.86363636 0.88383838 0.9040404  0.92424242 0.94444444 0.96464646\n",
      " 0.98484848 1.00505051 1.02525253 1.04545455 1.06565657 1.08585859\n",
      " 1.10606061 1.12626263 1.14646465 1.16666667 1.18686869 1.20707071\n",
      " 1.22727273 1.24747475 1.26767677 1.28787879 1.30808081 1.32828283\n",
      " 1.34848485 1.36868687 1.38888889 1.40909091 1.42929293 1.44949495\n",
      " 1.46969697 1.48989899 1.51010101 1.53030303 1.55050505 1.57070707\n",
      " 1.59090909 1.61111111 1.63131313 1.65151515 1.67171717 1.69191919\n",
      " 1.71212121 1.73232323 1.75252525 1.77272727 1.79292929 1.81313131\n",
      " 1.83333333 1.85353535 1.87373737 1.89393939 1.91414141 1.93434343\n",
      " 1.95454545 1.97474747 1.99494949 2.01515152 2.03535354 2.05555556\n",
      " 2.07575758 2.0959596  2.11616162 2.13636364 2.15656566 2.17676768\n",
      " 2.1969697  2.21717172 2.23737374 2.25757576 2.27777778 2.2979798\n",
      " 2.31818182 2.33838384 2.35858586 2.37878788 2.3989899  2.41919192\n",
      " 2.43939394 2.45959596 2.47979798 2.5       ]\n"
     ]
    }
   ],
   "source": [
    "# Генераторы\n",
    "\n",
    "a = np.arange(0.5, 2.5, 0.1) # start, stop, step\n",
    "\n",
    "print(a)\n",
    "\n",
    "b = np.linspace(0.5, 2.5, 100) # start, stop, num\n",
    "\n",
    "print(b)"
   ]
  },
  {
   "cell_type": "code",
   "execution_count": 61,
   "metadata": {},
   "outputs": [
    {
     "name": "stdout",
     "output_type": "stream",
     "text": [
      "[[[ 0.78653179 -0.79878224 -0.67938349]\n",
      "  [-0.27535857  2.06153625 -0.41075151]\n",
      "  [-1.4602706   0.95914701  0.29513783]]\n",
      "\n",
      " [[ 0.7392406  -1.92544423  0.04841408]\n",
      "  [-1.1152111   1.31598165 -0.69333924]\n",
      "  [ 0.67531176 -0.70101516 -1.04333833]]\n",
      "\n",
      " [[-0.26963089 -2.02621644 -0.56567499]\n",
      "  [-0.41827589 -0.42762661  0.79055442]\n",
      "  [ 1.51224381 -1.03134552  2.34639069]]] \n",
      "\n",
      "8 \n",
      "\n",
      "[[[0.06940732 0.12409176 0.52087226]\n",
      "  [0.15329732 0.00157313 0.48718387]\n",
      "  [0.83885558 0.29945268 0.44043854]]\n",
      "\n",
      " [[0.69310616 0.73866144 0.46408056]\n",
      "  [0.85381739 0.89220086 0.67766325]\n",
      "  [0.20210204 0.56695663 0.12158019]]\n",
      "\n",
      " [[0.47717575 0.67288726 0.21592458]\n",
      "  [0.43454171 0.13747397 0.02478177]\n",
      "  [0.95854671 0.61195549 0.91476222]]]\n"
     ]
    }
   ],
   "source": [
    "# Модуль random\n",
    "\n",
    "a = np.random.randn(3, 3, 3) # Массив заполненный случайными значениями в нормальном распределении\n",
    "\n",
    "print(a, '\\n')\n",
    "\n",
    "print(np.random.randint(5, 10), '\\n') # Случайное целое число\n",
    "\n",
    "b = np.random.rand(3, 3, 3) # Массив заполненный случайными значениями в диапазоне от 0 до 1\n",
    "\n",
    "print(b)"
   ]
  },
  {
   "cell_type": "markdown",
   "metadata": {
    "id": "1ziivfY8j_39"
   },
   "source": [
    "# MatplotLib"
   ]
  },
  {
   "cell_type": "code",
   "execution_count": 62,
   "metadata": {
    "colab": {
     "base_uri": "https://localhost:8080/",
     "height": 396
    },
    "id": "39FpgjJkBGw_",
    "outputId": "a2e0109f-c013-43e5-e3b1-ded55896af64"
   },
   "outputs": [
    {
     "data": {
      "image/png": "[encoded data removed]",
      "text/plain": [
       "<Figure size 2000x1000 with 1 Axes>"
      ]
     },
     "metadata": {},
     "output_type": "display_data"
    }
   ],
   "source": [
    "# График кривой\n",
    "\n",
    "from matplotlib import pyplot as plt\n",
    "\n",
    "x = np.linspace(0, 10, 50)\n",
    "y1 = np.random.randn(50)\n",
    "y2 = np.random.randn(50)\n",
    "\n",
    "fig, ax = plt.subplots(figsize=(20, 10))\n",
    "\n",
    "ax.plot(x, y1, c='r')\n",
    "ax.plot(x, y2, c='g')\n",
    "ax.set_title('Ttile')\n",
    "ax.set_xlabel('x label')\n",
    "ax.set_ylabel('y label')\n",
    "ax.legend(['y1', 'y2'])\n",
    "plt.show()"
   ]
  },
  {
   "cell_type": "code",
   "execution_count": 63,
   "metadata": {
    "colab": {
     "base_uri": "https://localhost:8080/",
     "height": 621
    },
    "id": "nDPJz21BCMpx",
    "outputId": "049731a1-76e5-46b7-d18d-a34176bdd6e0"
   },
   "outputs": [
    {
     "data": {
      "image/png": "[encoded data removed]",
      "text/plain": [
       "<Figure size 1000x1000 with 1 Axes>"
      ]
     },
     "metadata": {},
     "output_type": "display_data"
    }
   ],
   "source": [
    "# График разброса\n",
    "\n",
    "x1 = np.random.randn(50)\n",
    "y1 = np.random.randn(50)\n",
    "\n",
    "x2 = np.random.randn(50) + 5\n",
    "y2 = np.random.randn(50) - 5\n",
    "\n",
    "fig, ax = plt.subplots(figsize=(10, 10))\n",
    "\n",
    "ax.scatter(x1, y1, c='r')\n",
    "ax.scatter(x2, y2, c='g')\n",
    "ax.set_title('Ttile')\n",
    "ax.set_xlabel('x label')\n",
    "ax.set_ylabel('y label')\n",
    "ax.legend(['y1', 'y2'])\n",
    "plt.show()"
   ]
  },
  {
   "cell_type": "code",
   "execution_count": 64,
   "metadata": {
    "colab": {
     "base_uri": "https://localhost:8080/",
     "height": 621
    },
    "id": "PsQ7jJNQDzG3",
    "outputId": "0c031628-b79a-4f49-c47f-2daca6c1bd0c"
   },
   "outputs": [
    {
     "data": {
      "image/png": "[encoded data removed]",
      "text/plain": [
       "<Figure size 1000x1000 with 4 Axes>"
      ]
     },
     "metadata": {},
     "output_type": "display_data"
    }
   ],
   "source": [
    "# Вывод несколько графиков\n",
    "\n",
    "fig, ax = plt.subplots(figsize=(10, 10), ncols=2, nrows=2)\n",
    "\n",
    "for i in range(2):\n",
    "    for j in range(2):\n",
    "        x = np.random.randn(50)\n",
    "        y = np.random.randn(50)\n",
    "        ax[i, j].scatter(x, y, c='r')\n",
    "        ax[i, j].set_title(f'row {i}, col {j}')\n",
    "        ax[i, j].set_xlabel('x label')\n",
    "        ax[i, j].set_ylabel('y label')\n",
    "        ax[i, j].legend(['y1', 'y2'])\n",
    "\n",
    "plt.subplots_adjust(left=None, bottom=None, right=None, top=None, wspace=None, hspace=None)\n",
    "\n",
    "# left float, optional\n",
    "# The position of the left edge of the subplots, as a fraction of the figure width.\n",
    "\n",
    "# right float, optional\n",
    "# The position of the right edge of the subplots, as a fraction of the figure width.\n",
    "\n",
    "# bottom float, optional\n",
    "# The position of the bottom edge of the subplots, as a fraction of the figure height.\n",
    "\n",
    "# top float, optional\n",
    "# The position of the top edge of the subplots, as a fraction of the figure height.\n",
    "\n",
    "# wspace float, optional\n",
    "# The width of the padding between subplots, as a fraction of the average Axes width.\n",
    "\n",
    "# hspace float, optional\n",
    "# The height of the padding between subplots, as a fraction of the average Axes height.\n",
    "\n",
    "plt.show()"
   ]
  },
  {
   "cell_type": "code",
   "execution_count": 65,
   "metadata": {
    "colab": {
     "base_uri": "https://localhost:8080/",
     "height": 350
    },
    "id": "zTDPxj6gVjNq",
    "outputId": "907634f9-4f67-4b1d-a39b-29526ac3d1bc"
   },
   "outputs": [
    {
     "data": {
      "image/png": "[encoded data removed]",
      "text/plain": [
       "<Figure size 1000x500 with 2 Axes>"
      ]
     },
     "metadata": {},
     "output_type": "display_data"
    }
   ],
   "source": [
    "# Вывод несколько графиков\n",
    "\n",
    "fig, ax = plt.subplots(figsize=(10, 5), ncols=2)\n",
    "\n",
    "for i in range(2):\n",
    "        x = np.random.randn(50)\n",
    "        y = np.random.randn(50)\n",
    "        ax[i].scatter(x, y, c='r')\n",
    "        ax[i].set_title(f'row {i}, col {j}')\n",
    "        ax[i].set_xlabel('x label')\n",
    "        ax[i].set_ylabel('y label')\n",
    "        ax[i].legend(['y1', 'y2'])\n",
    "\n",
    "plt.subplots_adjust(left=None, bottom=None, right=None, top=None, wspace=None, hspace=None)\n",
    "\n",
    "# left float, optional\n",
    "# The position of the left edge of the subplots, as a fraction of the figure width.\n",
    "\n",
    "# right float, optional\n",
    "# The position of the right edge of the subplots, as a fraction of the figure width.\n",
    "\n",
    "# bottom float, optional\n",
    "# The position of the bottom edge of the subplots, as a fraction of the figure height.\n",
    "\n",
    "# top float, optional\n",
    "# The position of the top edge of the subplots, as a fraction of the figure height.\n",
    "\n",
    "# wspace float, optional\n",
    "# The width of the padding between subplots, as a fraction of the average Axes width.\n",
    "\n",
    "# hspace float, optional\n",
    "# The height of the padding between subplots, as a fraction of the average Axes height.\n",
    "\n",
    "plt.show()"
   ]
  },
  {
   "cell_type": "markdown",
   "metadata": {
    "id": "YIkLz0zDbqVH"
   },
   "source": [
    "# Pandas\n",
    "\n",
    "[10 minutes to pandas](https://pandas.pydata.org/pandas-docs/stable/user_guide/10min.html)\n",
    "\n",
    "[Pandas course on kaggle](https://www.kaggle.com/learn/pandas)"
   ]
  },
  {
   "cell_type": "code",
   "execution_count": 101,
   "metadata": {
    "id": "O2ng4NifbqVM"
   },
   "outputs": [],
   "source": [
    "import pandas as pd\n",
    "import numpy as np"
   ]
  },
  {
   "cell_type": "code",
   "execution_count": 102,
   "metadata": {
    "colab": {
     "base_uri": "https://localhost:8080/",
     "height": 112
    },
    "id": "fBF58d0ebqVO",
    "outputId": "f934818f-f3fb-44c7-9df5-4c780d3a8ee9"
   },
   "outputs": [
    {
     "data": {
      "text/html": [
       "\n",
       "  <div id=\"df-c77d4776-fef7-45a1-8234-723253725d84\">\n",
       "    <div class=\"colab-df-container\">\n",
       "      <div>\n",
       "<style scoped>\n",
       "    .dataframe tbody tr th:only-of-type {\n",
       "        vertical-align: middle;\n",
       "    }\n",
       "\n",
       "    .dataframe tbody tr th {\n",
       "        vertical-align: top;\n",
       "    }\n",
       "\n",
       "    .dataframe thead th {\n",
       "        text-align: right;\n",
       "    }\n",
       "</style>\n",
       "<table border=\"1\" class=\"dataframe\">\n",
       "  <thead>\n",
       "    <tr style=\"text-align: right;\">\n",
       "      <th></th>\n",
       "      <th>Yes</th>\n",
       "      <th>No</th>\n",
       "    </tr>\n",
       "  </thead>\n",
       "  <tbody>\n",
       "    <tr>\n",
       "      <th>0</th>\n",
       "      <td>50</td>\n",
       "      <td>131</td>\n",
       "    </tr>\n",
       "    <tr>\n",
       "      <th>1</th>\n",
       "      <td>21</td>\n",
       "      <td>2</td>\n",
       "    </tr>\n",
       "  </tbody>\n",
       "</table>\n",
       "</div>\n",
       "      <button class=\"colab-df-convert\" onclick=\"convertToInteractive('df-c77d4776-fef7-45a1-8234-723253725d84')\"\n",
       "              title=\"Convert this dataframe to an interactive table.\"\n",
       "              style=\"display:none;\">\n",
       "        \n",
       "  <svg xmlns=\"http://www.w3.org/2000/svg\" height=\"24px\"viewBox=\"0 0 24 24\"\n",
       "       width=\"24px\">\n",
       "    <path d=\"M0 0h24v24H0V0z\" fill=\"none\"/>\n",
       "    <path d=\"M18.56 5.44l.94 2.06.94-2.06 2.06-.94-2.06-.94-.94-2.06-.94 2.06-2.06.94zm-11 1L8.5 8.5l.94-2.06 2.06-.94-2.06-.94L8.5 2.5l-.94 2.06-2.06.94zm10 10l.94 2.06.94-2.06 2.06-.94-2.06-.94-.94-2.06-.94 2.06-2.06.94z\"/><path d=\"M17.41 7.96l-1.37-1.37c-.4-.4-.92-.59-1.43-.59-.52 0-1.04.2-1.43.59L10.3 9.45l-7.72 7.72c-.78.78-.78 2.05 0 2.83L4 21.41c.39.39.9.59 1.41.59.51 0 1.02-.2 1.41-.59l7.78-7.78 2.81-2.81c.8-.78.8-2.07 0-2.86zM5.41 20L4 18.59l7.72-7.72 1.47 1.35L5.41 20z\"/>\n",
       "  </svg>\n",
       "      </button>\n",
       "      \n",
       "  <style>\n",
       "    .colab-df-container {\n",
       "      display:flex;\n",
       "      flex-wrap:wrap;\n",
       "      gap: 12px;\n",
       "    }\n",
       "\n",
       "    .colab-df-convert {\n",
       "      background-color: #E8F0FE;\n",
       "      border: none;\n",
       "      border-radius: 50%;\n",
       "      cursor: pointer;\n",
       "      display: none;\n",
       "      fill: #1967D2;\n",
       "      height: 32px;\n",
       "      padding: 0 0 0 0;\n",
       "      width: 32px;\n",
       "    }\n",
       "\n",
       "    .colab-df-convert:hover {\n",
       "      background-color: #E2EBFA;\n",
       "      box-shadow: 0px 1px 2px rgba(60, 64, 67, 0.3), 0px 1px 3px 1px rgba(60, 64, 67, 0.15);\n",
       "      fill: #174EA6;\n",
       "    }\n",
       "\n",
       "    [theme=dark] .colab-df-convert {\n",
       "      background-color: #3B4455;\n",
       "      fill: #D2E3FC;\n",
       "    }\n",
       "\n",
       "    [theme=dark] .colab-df-convert:hover {\n",
       "      background-color: #434B5C;\n",
       "      box-shadow: 0px 1px 3px 1px rgba(0, 0, 0, 0.15);\n",
       "      filter: drop-shadow(0px 1px 2px rgba(0, 0, 0, 0.3));\n",
       "      fill: #FFFFFF;\n",
       "    }\n",
       "  </style>\n",
       "\n",
       "      <script>\n",
       "        const buttonEl =\n",
       "          document.querySelector('#df-c77d4776-fef7-45a1-8234-723253725d84 button.colab-df-convert');\n",
       "        buttonEl.style.display =\n",
       "          google.colab.kernel.accessAllowed ? 'block' : 'none';\n",
       "\n",
       "        async function convertToInteractive(key) {\n",
       "          const element = document.querySelector('#df-c77d4776-fef7-45a1-8234-723253725d84');\n",
       "          const dataTable =\n",
       "            await google.colab.kernel.invokeFunction('convertToInteractive',\n",
       "                                                     [key], {});\n",
       "          if (!dataTable) return;\n",
       "\n",
       "          const docLinkHtml = 'Like what you see? Visit the ' +\n",
       "            '<a target=\"_blank\" href=https://colab.research.google.com/notebooks/data_table.ipynb>data table notebook</a>'\n",
       "            + ' to learn more about interactive tables.';\n",
       "          element.innerHTML = '';\n",
       "          dataTable['output_type'] = 'display_data';\n",
       "          await google.colab.output.renderOutput(dataTable, element);\n",
       "          const docLink = document.createElement('div');\n",
       "          docLink.innerHTML = docLinkHtml;\n",
       "          element.appendChild(docLink);\n",
       "        }\n",
       "      </script>\n",
       "    </div>\n",
       "  </div>\n",
       "  "
      ],
      "text/plain": [
       "   Yes   No\n",
       "0   50  131\n",
       "1   21    2"
      ]
     },
     "execution_count": 102,
     "metadata": {},
     "output_type": "execute_result"
    }
   ],
   "source": [
    "# Создание DataFrame\n",
    "df = pd.DataFrame({'Yes': [50, 21], 'No': [131, 2]})\n",
    "df"
   ]
  },
  {
   "cell_type": "code",
   "execution_count": 103,
   "metadata": {
    "colab": {
     "base_uri": "https://localhost:8080/",
     "height": 112
    },
    "id": "8D9w7HDnbqVP",
    "outputId": "3f5328d1-b6dc-412a-87c0-e7d08501ce82"
   },
   "outputs": [
    {
     "data": {
      "text/html": [
       "\n",
       "  <div id=\"df-d919dac5-cc39-44a8-a86a-7440255e6c3e\">\n",
       "    <div class=\"colab-df-container\">\n",
       "      <div>\n",
       "<style scoped>\n",
       "    .dataframe tbody tr th:only-of-type {\n",
       "        vertical-align: middle;\n",
       "    }\n",
       "\n",
       "    .dataframe tbody tr th {\n",
       "        vertical-align: top;\n",
       "    }\n",
       "\n",
       "    .dataframe thead th {\n",
       "        text-align: right;\n",
       "    }\n",
       "</style>\n",
       "<table border=\"1\" class=\"dataframe\">\n",
       "  <thead>\n",
       "    <tr style=\"text-align: right;\">\n",
       "      <th></th>\n",
       "      <th>Yes</th>\n",
       "      <th>No</th>\n",
       "    </tr>\n",
       "  </thead>\n",
       "  <tbody>\n",
       "    <tr>\n",
       "      <th>Case 1</th>\n",
       "      <td>50</td>\n",
       "      <td>131</td>\n",
       "    </tr>\n",
       "    <tr>\n",
       "      <th>Case 2</th>\n",
       "      <td>21</td>\n",
       "      <td>2</td>\n",
       "    </tr>\n",
       "  </tbody>\n",
       "</table>\n",
       "</div>\n",
       "      <button class=\"colab-df-convert\" onclick=\"convertToInteractive('df-d919dac5-cc39-44a8-a86a-7440255e6c3e')\"\n",
       "              title=\"Convert this dataframe to an interactive table.\"\n",
       "              style=\"display:none;\">\n",
       "        \n",
       "  <svg xmlns=\"http://www.w3.org/2000/svg\" height=\"24px\"viewBox=\"0 0 24 24\"\n",
       "       width=\"24px\">\n",
       "    <path d=\"M0 0h24v24H0V0z\" fill=\"none\"/>\n",
       "    <path d=\"M18.56 5.44l.94 2.06.94-2.06 2.06-.94-2.06-.94-.94-2.06-.94 2.06-2.06.94zm-11 1L8.5 8.5l.94-2.06 2.06-.94-2.06-.94L8.5 2.5l-.94 2.06-2.06.94zm10 10l.94 2.06.94-2.06 2.06-.94-2.06-.94-.94-2.06-.94 2.06-2.06.94z\"/><path d=\"M17.41 7.96l-1.37-1.37c-.4-.4-.92-.59-1.43-.59-.52 0-1.04.2-1.43.59L10.3 9.45l-7.72 7.72c-.78.78-.78 2.05 0 2.83L4 21.41c.39.39.9.59 1.41.59.51 0 1.02-.2 1.41-.59l7.78-7.78 2.81-2.81c.8-.78.8-2.07 0-2.86zM5.41 20L4 18.59l7.72-7.72 1.47 1.35L5.41 20z\"/>\n",
       "  </svg>\n",
       "      </button>\n",
       "      \n",
       "  <style>\n",
       "    .colab-df-container {\n",
       "      display:flex;\n",
       "      flex-wrap:wrap;\n",
       "      gap: 12px;\n",
       "    }\n",
       "\n",
       "    .colab-df-convert {\n",
       "      background-color: #E8F0FE;\n",
       "      border: none;\n",
       "      border-radius: 50%;\n",
       "      cursor: pointer;\n",
       "      display: none;\n",
       "      fill: #1967D2;\n",
       "      height: 32px;\n",
       "      padding: 0 0 0 0;\n",
       "      width: 32px;\n",
       "    }\n",
       "\n",
       "    .colab-df-convert:hover {\n",
       "      background-color: #E2EBFA;\n",
       "      box-shadow: 0px 1px 2px rgba(60, 64, 67, 0.3), 0px 1px 3px 1px rgba(60, 64, 67, 0.15);\n",
       "      fill: #174EA6;\n",
       "    }\n",
       "\n",
       "    [theme=dark] .colab-df-convert {\n",
       "      background-color: #3B4455;\n",
       "      fill: #D2E3FC;\n",
       "    }\n",
       "\n",
       "    [theme=dark] .colab-df-convert:hover {\n",
       "      background-color: #434B5C;\n",
       "      box-shadow: 0px 1px 3px 1px rgba(0, 0, 0, 0.15);\n",
       "      filter: drop-shadow(0px 1px 2px rgba(0, 0, 0, 0.3));\n",
       "      fill: #FFFFFF;\n",
       "    }\n",
       "  </style>\n",
       "\n",
       "      <script>\n",
       "        const buttonEl =\n",
       "          document.querySelector('#df-d919dac5-cc39-44a8-a86a-7440255e6c3e button.colab-df-convert');\n",
       "        buttonEl.style.display =\n",
       "          google.colab.kernel.accessAllowed ? 'block' : 'none';\n",
       "\n",
       "        async function convertToInteractive(key) {\n",
       "          const element = document.querySelector('#df-d919dac5-cc39-44a8-a86a-7440255e6c3e');\n",
       "          const dataTable =\n",
       "            await google.colab.kernel.invokeFunction('convertToInteractive',\n",
       "                                                     [key], {});\n",
       "          if (!dataTable) return;\n",
       "\n",
       "          const docLinkHtml = 'Like what you see? Visit the ' +\n",
       "            '<a target=\"_blank\" href=https://colab.research.google.com/notebooks/data_table.ipynb>data table notebook</a>'\n",
       "            + ' to learn more about interactive tables.';\n",
       "          element.innerHTML = '';\n",
       "          dataTable['output_type'] = 'display_data';\n",
       "          await google.colab.output.renderOutput(dataTable, element);\n",
       "          const docLink = document.createElement('div');\n",
       "          docLink.innerHTML = docLinkHtml;\n",
       "          element.appendChild(docLink);\n",
       "        }\n",
       "      </script>\n",
       "    </div>\n",
       "  </div>\n",
       "  "
      ],
      "text/plain": [
       "        Yes   No\n",
       "Case 1   50  131\n",
       "Case 2   21    2"
      ]
     },
     "execution_count": 103,
     "metadata": {},
     "output_type": "execute_result"
    }
   ],
   "source": [
    "# Добавление индексов\n",
    "df = pd.DataFrame({'Yes': [50, 21], 'No': [131, 2]}, index=['Case 1', 'Case 2'])\n",
    "df"
   ]
  },
  {
   "cell_type": "code",
   "execution_count": 104,
   "metadata": {
    "colab": {
     "base_uri": "https://localhost:8080/",
     "height": 312
    },
    "id": "ZEe0SD0kbqVP",
    "outputId": "0b1dc40c-cc37-4998-f825-a568e31f62ea"
   },
   "outputs": [
    {
     "data": {
      "text/plain": [
       "0      0\n",
       "1      1\n",
       "2      2\n",
       "3      3\n",
       "4      4\n",
       "5      5\n",
       "6      6\n",
       "7      7\n",
       "8      8\n",
       "9      9\n",
       "10    10\n",
       "11    11\n",
       "12    12\n",
       "13    13\n",
       "14    14\n",
       "15    15\n",
       "dtype: int64"
      ]
     },
     "metadata": {},
     "output_type": "display_data"
    }
   ],
   "source": [
    "# Series\n",
    "s = pd.Series([i for i in range(16)])\n",
    "display(s)"
   ]
  },
  {
   "cell_type": "code",
   "execution_count": 105,
   "metadata": {
    "colab": {
     "base_uri": "https://localhost:8080/",
     "height": 104
    },
    "id": "RTjX3PlgbqVQ",
    "outputId": "79fc6646-03c3-4df2-e9d0-80c72f0098b3"
   },
   "outputs": [
    {
     "name": "stdout",
     "output_type": "stream",
     "text": [
      "<class 'pandas.core.series.Series'> \n",
      "\n"
     ]
    },
    {
     "data": {
      "text/plain": [
       "Case 1    50\n",
       "Case 2    21\n",
       "Name: Yes, dtype: int64"
      ]
     },
     "metadata": {},
     "output_type": "display_data"
    }
   ],
   "source": [
    "s = df['Yes']\n",
    "print(type(s), '\\n')\n",
    "display(s)"
   ]
  },
  {
   "cell_type": "code",
   "execution_count": 106,
   "metadata": {
    "id": "qHbsFuULbqVQ"
   },
   "outputs": [],
   "source": [
    "# Запись DataFrame\n",
    "df = pd.DataFrame({'Yes': [50, 21], 'No': [131, 2]}, index=['Case 1', 'Case 2'])\n",
    "df.to_csv('df.csv')"
   ]
  },
  {
   "cell_type": "code",
   "execution_count": 107,
   "metadata": {
    "colab": {
     "base_uri": "https://localhost:8080/",
     "height": 112
    },
    "id": "rYKTgRfEbqVR",
    "outputId": "1a1c8181-ebfd-4f59-ab2e-8f626b531d08"
   },
   "outputs": [
    {
     "data": {
      "text/html": [
       "\n",
       "  <div id=\"df-e65dff49-d400-486c-8ec6-9c888d3556a5\">\n",
       "    <div class=\"colab-df-container\">\n",
       "      <div>\n",
       "<style scoped>\n",
       "    .dataframe tbody tr th:only-of-type {\n",
       "        vertical-align: middle;\n",
       "    }\n",
       "\n",
       "    .dataframe tbody tr th {\n",
       "        vertical-align: top;\n",
       "    }\n",
       "\n",
       "    .dataframe thead th {\n",
       "        text-align: right;\n",
       "    }\n",
       "</style>\n",
       "<table border=\"1\" class=\"dataframe\">\n",
       "  <thead>\n",
       "    <tr style=\"text-align: right;\">\n",
       "      <th></th>\n",
       "      <th>Yes</th>\n",
       "      <th>No</th>\n",
       "    </tr>\n",
       "  </thead>\n",
       "  <tbody>\n",
       "    <tr>\n",
       "      <th>Case 1</th>\n",
       "      <td>50</td>\n",
       "      <td>131</td>\n",
       "    </tr>\n",
       "    <tr>\n",
       "      <th>Case 2</th>\n",
       "      <td>21</td>\n",
       "      <td>2</td>\n",
       "    </tr>\n",
       "  </tbody>\n",
       "</table>\n",
       "</div>\n",
       "      <button class=\"colab-df-convert\" onclick=\"convertToInteractive('df-e65dff49-d400-486c-8ec6-9c888d3556a5')\"\n",
       "              title=\"Convert this dataframe to an interactive table.\"\n",
       "              style=\"display:none;\">\n",
       "        \n",
       "  <svg xmlns=\"http://www.w3.org/2000/svg\" height=\"24px\"viewBox=\"0 0 24 24\"\n",
       "       width=\"24px\">\n",
       "    <path d=\"M0 0h24v24H0V0z\" fill=\"none\"/>\n",
       "    <path d=\"M18.56 5.44l.94 2.06.94-2.06 2.06-.94-2.06-.94-.94-2.06-.94 2.06-2.06.94zm-11 1L8.5 8.5l.94-2.06 2.06-.94-2.06-.94L8.5 2.5l-.94 2.06-2.06.94zm10 10l.94 2.06.94-2.06 2.06-.94-2.06-.94-.94-2.06-.94 2.06-2.06.94z\"/><path d=\"M17.41 7.96l-1.37-1.37c-.4-.4-.92-.59-1.43-.59-.52 0-1.04.2-1.43.59L10.3 9.45l-7.72 7.72c-.78.78-.78 2.05 0 2.83L4 21.41c.39.39.9.59 1.41.59.51 0 1.02-.2 1.41-.59l7.78-7.78 2.81-2.81c.8-.78.8-2.07 0-2.86zM5.41 20L4 18.59l7.72-7.72 1.47 1.35L5.41 20z\"/>\n",
       "  </svg>\n",
       "      </button>\n",
       "      \n",
       "  <style>\n",
       "    .colab-df-container {\n",
       "      display:flex;\n",
       "      flex-wrap:wrap;\n",
       "      gap: 12px;\n",
       "    }\n",
       "\n",
       "    .colab-df-convert {\n",
       "      background-color: #E8F0FE;\n",
       "      border: none;\n",
       "      border-radius: 50%;\n",
       "      cursor: pointer;\n",
       "      display: none;\n",
       "      fill: #1967D2;\n",
       "      height: 32px;\n",
       "      padding: 0 0 0 0;\n",
       "      width: 32px;\n",
       "    }\n",
       "\n",
       "    .colab-df-convert:hover {\n",
       "      background-color: #E2EBFA;\n",
       "      box-shadow: 0px 1px 2px rgba(60, 64, 67, 0.3), 0px 1px 3px 1px rgba(60, 64, 67, 0.15);\n",
       "      fill: #174EA6;\n",
       "    }\n",
       "\n",
       "    [theme=dark] .colab-df-convert {\n",
       "      background-color: #3B4455;\n",
       "      fill: #D2E3FC;\n",
       "    }\n",
       "\n",
       "    [theme=dark] .colab-df-convert:hover {\n",
       "      background-color: #434B5C;\n",
       "      box-shadow: 0px 1px 3px 1px rgba(0, 0, 0, 0.15);\n",
       "      filter: drop-shadow(0px 1px 2px rgba(0, 0, 0, 0.3));\n",
       "      fill: #FFFFFF;\n",
       "    }\n",
       "  </style>\n",
       "\n",
       "      <script>\n",
       "        const buttonEl =\n",
       "          document.querySelector('#df-e65dff49-d400-486c-8ec6-9c888d3556a5 button.colab-df-convert');\n",
       "        buttonEl.style.display =\n",
       "          google.colab.kernel.accessAllowed ? 'block' : 'none';\n",
       "\n",
       "        async function convertToInteractive(key) {\n",
       "          const element = document.querySelector('#df-e65dff49-d400-486c-8ec6-9c888d3556a5');\n",
       "          const dataTable =\n",
       "            await google.colab.kernel.invokeFunction('convertToInteractive',\n",
       "                                                     [key], {});\n",
       "          if (!dataTable) return;\n",
       "\n",
       "          const docLinkHtml = 'Like what you see? Visit the ' +\n",
       "            '<a target=\"_blank\" href=https://colab.research.google.com/notebooks/data_table.ipynb>data table notebook</a>'\n",
       "            + ' to learn more about interactive tables.';\n",
       "          element.innerHTML = '';\n",
       "          dataTable['output_type'] = 'display_data';\n",
       "          await google.colab.output.renderOutput(dataTable, element);\n",
       "          const docLink = document.createElement('div');\n",
       "          docLink.innerHTML = docLinkHtml;\n",
       "          element.appendChild(docLink);\n",
       "        }\n",
       "      </script>\n",
       "    </div>\n",
       "  </div>\n",
       "  "
      ],
      "text/plain": [
       "        Yes   No\n",
       "Case 1   50  131\n",
       "Case 2   21    2"
      ]
     },
     "execution_count": 107,
     "metadata": {},
     "output_type": "execute_result"
    }
   ],
   "source": [
    "# Чтение DataFrame\n",
    "df = pd.read_csv('df.csv', index_col=0)\n",
    "df"
   ]
  },
  {
   "cell_type": "code",
   "execution_count": 108,
   "metadata": {
    "colab": {
     "base_uri": "https://localhost:8080/"
    },
    "id": "KuG9L8j3bqVS",
    "outputId": "33c76303-2509-4eb3-d3c2-853178eb5b5b"
   },
   "outputs": [
    {
     "name": "stdout",
     "output_type": "stream",
     "text": [
      "DatetimeIndex(['2013-01-01', '2013-01-02', '2013-01-03', '2013-01-04',\n",
      "               '2013-01-05', '2013-01-06'],\n",
      "              dtype='datetime64[ns]', freq='D') \n",
      "\n",
      "df:  \n",
      "                    A         B         C         D\n",
      "2013-01-01 -1.700069  1.034735  0.888160  1.133923\n",
      "2013-01-02  0.432541 -0.135294 -0.017593  0.292149\n",
      "2013-01-03  0.420367  1.392852 -0.421063 -0.129335\n",
      "2013-01-04 -0.023110 -0.102520 -0.163668 -0.983518\n",
      "2013-01-05  1.919206 -2.044045  1.062205 -1.626635\n",
      "2013-01-06 -0.621296 -0.398644  0.292082 -0.389866 \n",
      "\n",
      "df.dtypes:  \n",
      " A    float64\n",
      "B    float64\n",
      "C    float64\n",
      "D    float64\n",
      "dtype: object \n",
      "\n",
      "df.index:  \n",
      " DatetimeIndex(['2013-01-01', '2013-01-02', '2013-01-03', '2013-01-04',\n",
      "               '2013-01-05', '2013-01-06'],\n",
      "              dtype='datetime64[ns]', freq='D') \n",
      "\n",
      "df.columns:  \n",
      " Index(['A', 'B', 'C', 'D'], dtype='object') \n",
      "\n",
      "df.to_numpy():  \n",
      " [[-1.70006949  1.0347354   0.88815997  1.13392308]\n",
      " [ 0.43254137 -0.1352944  -0.01759321  0.29214875]\n",
      " [ 0.4203666   1.39285155 -0.42106267 -0.12933459]\n",
      " [-0.02311048 -0.10251959 -0.16366815 -0.98351817]\n",
      " [ 1.91920609 -2.04404472  1.06220488 -1.62663547]\n",
      " [-0.62129631 -0.39864387  0.29208183 -0.38986559]] \n",
      "\n",
      "df.T:  \n",
      "    2013-01-01  2013-01-02  2013-01-03  2013-01-04  2013-01-05  2013-01-06\n",
      "A   -1.700069    0.432541    0.420367   -0.023110    1.919206   -0.621296\n",
      "B    1.034735   -0.135294    1.392852   -0.102520   -2.044045   -0.398644\n",
      "C    0.888160   -0.017593   -0.421063   -0.163668    1.062205    0.292082\n",
      "D    1.133923    0.292149   -0.129335   -0.983518   -1.626635   -0.389866 \n",
      "\n",
      "df.sort_values(by=\"B\"):  \n",
      "                    A         B         C         D\n",
      "2013-01-05  1.919206 -2.044045  1.062205 -1.626635\n",
      "2013-01-06 -0.621296 -0.398644  0.292082 -0.389866\n",
      "2013-01-02  0.432541 -0.135294 -0.017593  0.292149\n",
      "2013-01-04 -0.023110 -0.102520 -0.163668 -0.983518\n",
      "2013-01-01 -1.700069  1.034735  0.888160  1.133923\n",
      "2013-01-03  0.420367  1.392852 -0.421063 -0.129335 \n",
      "\n",
      "dataset_df.shape:  \n",
      " (6, 4) \n",
      "\n"
     ]
    }
   ],
   "source": [
    "dates = pd.date_range(\"20130101\", periods=6)\n",
    "\n",
    "print(dates, '\\n')\n",
    "\n",
    "df = pd.DataFrame(np.random.randn(6, 4), index=dates, columns=list(\"ABCD\"))\n",
    "\n",
    "print('df: ', '\\n', df, '\\n')\n",
    "print('df.dtypes: ', '\\n', df.dtypes, '\\n')\n",
    "print('df.index: ', '\\n', df.index, '\\n')\n",
    "print('df.columns: ', '\\n', df.columns, '\\n')\n",
    "print('df.to_numpy(): ', '\\n', df.to_numpy(), '\\n')\n",
    "print('df.T: ', '\\n', df.T, '\\n')\n",
    "print('df.sort_values(by=\"B\"): ', '\\n', df.sort_values(by=\"B\"), '\\n')\n",
    "print('dataset_df.shape: ', '\\n', df.shape, '\\n')"
   ]
  },
  {
   "cell_type": "code",
   "execution_count": 109,
   "metadata": {
    "colab": {
     "base_uri": "https://localhost:8080/"
    },
    "id": "n0w8Wk41bqVT",
    "outputId": "f0d6d2bc-d750-444c-aa5d-72a5fb14bf81"
   },
   "outputs": [
    {
     "name": "stdout",
     "output_type": "stream",
     "text": [
      "df[\"A\"]:  \n",
      " 2013-01-01   -1.700069\n",
      "2013-01-02    0.432541\n",
      "2013-01-03    0.420367\n",
      "2013-01-04   -0.023110\n",
      "2013-01-05    1.919206\n",
      "2013-01-06   -0.621296\n",
      "Freq: D, Name: A, dtype: float64 \n",
      "\n",
      "df[0:3]:  \n",
      "                    A         B         C         D\n",
      "2013-01-01 -1.700069  1.034735  0.888160  1.133923\n",
      "2013-01-02  0.432541 -0.135294 -0.017593  0.292149\n",
      "2013-01-03  0.420367  1.392852 -0.421063 -0.129335 \n",
      "\n"
     ]
    }
   ],
   "source": [
    "# Индексация\n",
    "print('df[\"A\"]: ', '\\n', df[\"A\"], '\\n')\n",
    "print('df[0:3]: ', '\\n', df[0:3], '\\n')"
   ]
  },
  {
   "cell_type": "code",
   "execution_count": 110,
   "metadata": {
    "colab": {
     "base_uri": "https://localhost:8080/"
    },
    "id": "52an52QEbqVU",
    "outputId": "813c576a-e824-4304-93f9-a72593d94e6d"
   },
   "outputs": [
    {
     "name": "stdout",
     "output_type": "stream",
     "text": [
      "df.loc[\"20130102\":\"20130104\", [\"A\", \"B\"]]:  \n",
      "                    A         B\n",
      "2013-01-02  0.432541 -0.135294\n",
      "2013-01-03  0.420367  1.392852\n",
      "2013-01-04 -0.023110 -0.102520 \n",
      "\n"
     ]
    }
   ],
   "source": [
    "# Индексация с помощью loc\n",
    "print('df.loc[\"20130102\":\"20130104\", [\"A\", \"B\"]]: ', '\\n', df.loc[\"20130102\":\"20130104\", [\"A\", \"B\"]], '\\n')"
   ]
  },
  {
   "cell_type": "code",
   "execution_count": 111,
   "metadata": {
    "colab": {
     "base_uri": "https://localhost:8080/"
    },
    "id": "wtcG2Lm5bqVU",
    "outputId": "5f6c3bee-b169-486c-cca8-ce851e0cfb4c"
   },
   "outputs": [
    {
     "name": "stdout",
     "output_type": "stream",
     "text": [
      "df.iloc[0:2, 4]:  \n",
      " 2013-01-01    1.133923\n",
      "2013-01-02    0.292149\n",
      "Freq: D, Name: D, dtype: float64 \n",
      "\n"
     ]
    }
   ],
   "source": [
    "# Индексация с помощью iloc\n",
    "print('df.iloc[0:2, 4]: ', '\\n', df.iloc[0:2, 3], '\\n')"
   ]
  },
  {
   "cell_type": "code",
   "execution_count": 112,
   "metadata": {
    "colab": {
     "base_uri": "https://localhost:8080/",
     "height": 238
    },
    "id": "f1BQTkx4bqVV",
    "outputId": "fdd8c980-49f9-4cd3-8f94-8eaccd14e343"
   },
   "outputs": [
    {
     "data": {
      "text/html": [
       "\n",
       "  <div id=\"df-80fe06aa-0b12-44e3-8a0a-a3e5cdc39490\">\n",
       "    <div class=\"colab-df-container\">\n",
       "      <div>\n",
       "<style scoped>\n",
       "    .dataframe tbody tr th:only-of-type {\n",
       "        vertical-align: middle;\n",
       "    }\n",
       "\n",
       "    .dataframe tbody tr th {\n",
       "        vertical-align: top;\n",
       "    }\n",
       "\n",
       "    .dataframe thead th {\n",
       "        text-align: right;\n",
       "    }\n",
       "</style>\n",
       "<table border=\"1\" class=\"dataframe\">\n",
       "  <thead>\n",
       "    <tr style=\"text-align: right;\">\n",
       "      <th></th>\n",
       "      <th>A</th>\n",
       "      <th>B</th>\n",
       "      <th>C</th>\n",
       "      <th>D</th>\n",
       "      <th>F</th>\n",
       "    </tr>\n",
       "  </thead>\n",
       "  <tbody>\n",
       "    <tr>\n",
       "      <th>2013-01-01</th>\n",
       "      <td>-1.700069</td>\n",
       "      <td>1.034735</td>\n",
       "      <td>0.888160</td>\n",
       "      <td>1.133923</td>\n",
       "      <td>1</td>\n",
       "    </tr>\n",
       "    <tr>\n",
       "      <th>2013-01-02</th>\n",
       "      <td>0.432541</td>\n",
       "      <td>-0.135294</td>\n",
       "      <td>-0.017593</td>\n",
       "      <td>0.292149</td>\n",
       "      <td>2</td>\n",
       "    </tr>\n",
       "    <tr>\n",
       "      <th>2013-01-03</th>\n",
       "      <td>0.420367</td>\n",
       "      <td>1.392852</td>\n",
       "      <td>-0.421063</td>\n",
       "      <td>-0.129335</td>\n",
       "      <td>3</td>\n",
       "    </tr>\n",
       "    <tr>\n",
       "      <th>2013-01-04</th>\n",
       "      <td>-0.023110</td>\n",
       "      <td>-0.102520</td>\n",
       "      <td>-0.163668</td>\n",
       "      <td>-0.983518</td>\n",
       "      <td>4</td>\n",
       "    </tr>\n",
       "    <tr>\n",
       "      <th>2013-01-05</th>\n",
       "      <td>1.919206</td>\n",
       "      <td>-2.044045</td>\n",
       "      <td>1.062205</td>\n",
       "      <td>-1.626635</td>\n",
       "      <td>5</td>\n",
       "    </tr>\n",
       "    <tr>\n",
       "      <th>2013-01-06</th>\n",
       "      <td>-0.621296</td>\n",
       "      <td>-0.398644</td>\n",
       "      <td>0.292082</td>\n",
       "      <td>-0.389866</td>\n",
       "      <td>6</td>\n",
       "    </tr>\n",
       "  </tbody>\n",
       "</table>\n",
       "</div>\n",
       "      <button class=\"colab-df-convert\" onclick=\"convertToInteractive('df-80fe06aa-0b12-44e3-8a0a-a3e5cdc39490')\"\n",
       "              title=\"Convert this dataframe to an interactive table.\"\n",
       "              style=\"display:none;\">\n",
       "        \n",
       "  <svg xmlns=\"http://www.w3.org/2000/svg\" height=\"24px\"viewBox=\"0 0 24 24\"\n",
       "       width=\"24px\">\n",
       "    <path d=\"M0 0h24v24H0V0z\" fill=\"none\"/>\n",
       "    <path d=\"M18.56 5.44l.94 2.06.94-2.06 2.06-.94-2.06-.94-.94-2.06-.94 2.06-2.06.94zm-11 1L8.5 8.5l.94-2.06 2.06-.94-2.06-.94L8.5 2.5l-.94 2.06-2.06.94zm10 10l.94 2.06.94-2.06 2.06-.94-2.06-.94-.94-2.06-.94 2.06-2.06.94z\"/><path d=\"M17.41 7.96l-1.37-1.37c-.4-.4-.92-.59-1.43-.59-.52 0-1.04.2-1.43.59L10.3 9.45l-7.72 7.72c-.78.78-.78 2.05 0 2.83L4 21.41c.39.39.9.59 1.41.59.51 0 1.02-.2 1.41-.59l7.78-7.78 2.81-2.81c.8-.78.8-2.07 0-2.86zM5.41 20L4 18.59l7.72-7.72 1.47 1.35L5.41 20z\"/>\n",
       "  </svg>\n",
       "      </button>\n",
       "      \n",
       "  <style>\n",
       "    .colab-df-container {\n",
       "      display:flex;\n",
       "      flex-wrap:wrap;\n",
       "      gap: 12px;\n",
       "    }\n",
       "\n",
       "    .colab-df-convert {\n",
       "      background-color: #E8F0FE;\n",
       "      border: none;\n",
       "      border-radius: 50%;\n",
       "      cursor: pointer;\n",
       "      display: none;\n",
       "      fill: #1967D2;\n",
       "      height: 32px;\n",
       "      padding: 0 0 0 0;\n",
       "      width: 32px;\n",
       "    }\n",
       "\n",
       "    .colab-df-convert:hover {\n",
       "      background-color: #E2EBFA;\n",
       "      box-shadow: 0px 1px 2px rgba(60, 64, 67, 0.3), 0px 1px 3px 1px rgba(60, 64, 67, 0.15);\n",
       "      fill: #174EA6;\n",
       "    }\n",
       "\n",
       "    [theme=dark] .colab-df-convert {\n",
       "      background-color: #3B4455;\n",
       "      fill: #D2E3FC;\n",
       "    }\n",
       "\n",
       "    [theme=dark] .colab-df-convert:hover {\n",
       "      background-color: #434B5C;\n",
       "      box-shadow: 0px 1px 3px 1px rgba(0, 0, 0, 0.15);\n",
       "      filter: drop-shadow(0px 1px 2px rgba(0, 0, 0, 0.3));\n",
       "      fill: #FFFFFF;\n",
       "    }\n",
       "  </style>\n",
       "\n",
       "      <script>\n",
       "        const buttonEl =\n",
       "          document.querySelector('#df-80fe06aa-0b12-44e3-8a0a-a3e5cdc39490 button.colab-df-convert');\n",
       "        buttonEl.style.display =\n",
       "          google.colab.kernel.accessAllowed ? 'block' : 'none';\n",
       "\n",
       "        async function convertToInteractive(key) {\n",
       "          const element = document.querySelector('#df-80fe06aa-0b12-44e3-8a0a-a3e5cdc39490');\n",
       "          const dataTable =\n",
       "            await google.colab.kernel.invokeFunction('convertToInteractive',\n",
       "                                                     [key], {});\n",
       "          if (!dataTable) return;\n",
       "\n",
       "          const docLinkHtml = 'Like what you see? Visit the ' +\n",
       "            '<a target=\"_blank\" href=https://colab.research.google.com/notebooks/data_table.ipynb>data table notebook</a>'\n",
       "            + ' to learn more about interactive tables.';\n",
       "          element.innerHTML = '';\n",
       "          dataTable['output_type'] = 'display_data';\n",
       "          await google.colab.output.renderOutput(dataTable, element);\n",
       "          const docLink = document.createElement('div');\n",
       "          docLink.innerHTML = docLinkHtml;\n",
       "          element.appendChild(docLink);\n",
       "        }\n",
       "      </script>\n",
       "    </div>\n",
       "  </div>\n",
       "  "
      ],
      "text/plain": [
       "                   A         B         C         D  F\n",
       "2013-01-01 -1.700069  1.034735  0.888160  1.133923  1\n",
       "2013-01-02  0.432541 -0.135294 -0.017593  0.292149  2\n",
       "2013-01-03  0.420367  1.392852 -0.421063 -0.129335  3\n",
       "2013-01-04 -0.023110 -0.102520 -0.163668 -0.983518  4\n",
       "2013-01-05  1.919206 -2.044045  1.062205 -1.626635  5\n",
       "2013-01-06 -0.621296 -0.398644  0.292082 -0.389866  6"
      ]
     },
     "execution_count": 112,
     "metadata": {},
     "output_type": "execute_result"
    }
   ],
   "source": [
    "# Добавление столбца\n",
    "s1 = pd.Series([1, 2, 3, 4, 5, 6], index=pd.date_range(\"20130101\", periods=6))\n",
    "df[\"F\"] = s1\n",
    "df"
   ]
  },
  {
   "cell_type": "code",
   "execution_count": 113,
   "metadata": {
    "colab": {
     "base_uri": "https://localhost:8080/",
     "height": 238
    },
    "id": "H0MzNXxUbqVV",
    "outputId": "72e839de-67d7-49aa-eb7d-4665e41b7295"
   },
   "outputs": [
    {
     "data": {
      "text/html": [
       "\n",
       "  <div id=\"df-f52b5752-d72a-44b9-94ca-52b89121404a\">\n",
       "    <div class=\"colab-df-container\">\n",
       "      <div>\n",
       "<style scoped>\n",
       "    .dataframe tbody tr th:only-of-type {\n",
       "        vertical-align: middle;\n",
       "    }\n",
       "\n",
       "    .dataframe tbody tr th {\n",
       "        vertical-align: top;\n",
       "    }\n",
       "\n",
       "    .dataframe thead th {\n",
       "        text-align: right;\n",
       "    }\n",
       "</style>\n",
       "<table border=\"1\" class=\"dataframe\">\n",
       "  <thead>\n",
       "    <tr style=\"text-align: right;\">\n",
       "      <th></th>\n",
       "      <th>A</th>\n",
       "      <th>B</th>\n",
       "      <th>C</th>\n",
       "      <th>D</th>\n",
       "      <th>F</th>\n",
       "    </tr>\n",
       "  </thead>\n",
       "  <tbody>\n",
       "    <tr>\n",
       "      <th>2013-01-01</th>\n",
       "      <td>-1.700069</td>\n",
       "      <td>1.034735</td>\n",
       "      <td>0.888160</td>\n",
       "      <td>5</td>\n",
       "      <td>1</td>\n",
       "    </tr>\n",
       "    <tr>\n",
       "      <th>2013-01-02</th>\n",
       "      <td>0.432541</td>\n",
       "      <td>-0.135294</td>\n",
       "      <td>-0.017593</td>\n",
       "      <td>5</td>\n",
       "      <td>2</td>\n",
       "    </tr>\n",
       "    <tr>\n",
       "      <th>2013-01-03</th>\n",
       "      <td>0.420367</td>\n",
       "      <td>1.392852</td>\n",
       "      <td>-0.421063</td>\n",
       "      <td>5</td>\n",
       "      <td>3</td>\n",
       "    </tr>\n",
       "    <tr>\n",
       "      <th>2013-01-04</th>\n",
       "      <td>-0.023110</td>\n",
       "      <td>-0.102520</td>\n",
       "      <td>-0.163668</td>\n",
       "      <td>5</td>\n",
       "      <td>4</td>\n",
       "    </tr>\n",
       "    <tr>\n",
       "      <th>2013-01-05</th>\n",
       "      <td>1.919206</td>\n",
       "      <td>-2.044045</td>\n",
       "      <td>1.062205</td>\n",
       "      <td>5</td>\n",
       "      <td>5</td>\n",
       "    </tr>\n",
       "    <tr>\n",
       "      <th>2013-01-06</th>\n",
       "      <td>-0.621296</td>\n",
       "      <td>-0.398644</td>\n",
       "      <td>0.292082</td>\n",
       "      <td>5</td>\n",
       "      <td>6</td>\n",
       "    </tr>\n",
       "  </tbody>\n",
       "</table>\n",
       "</div>\n",
       "      <button class=\"colab-df-convert\" onclick=\"convertToInteractive('df-f52b5752-d72a-44b9-94ca-52b89121404a')\"\n",
       "              title=\"Convert this dataframe to an interactive table.\"\n",
       "              style=\"display:none;\">\n",
       "        \n",
       "  <svg xmlns=\"http://www.w3.org/2000/svg\" height=\"24px\"viewBox=\"0 0 24 24\"\n",
       "       width=\"24px\">\n",
       "    <path d=\"M0 0h24v24H0V0z\" fill=\"none\"/>\n",
       "    <path d=\"M18.56 5.44l.94 2.06.94-2.06 2.06-.94-2.06-.94-.94-2.06-.94 2.06-2.06.94zm-11 1L8.5 8.5l.94-2.06 2.06-.94-2.06-.94L8.5 2.5l-.94 2.06-2.06.94zm10 10l.94 2.06.94-2.06 2.06-.94-2.06-.94-.94-2.06-.94 2.06-2.06.94z\"/><path d=\"M17.41 7.96l-1.37-1.37c-.4-.4-.92-.59-1.43-.59-.52 0-1.04.2-1.43.59L10.3 9.45l-7.72 7.72c-.78.78-.78 2.05 0 2.83L4 21.41c.39.39.9.59 1.41.59.51 0 1.02-.2 1.41-.59l7.78-7.78 2.81-2.81c.8-.78.8-2.07 0-2.86zM5.41 20L4 18.59l7.72-7.72 1.47 1.35L5.41 20z\"/>\n",
       "  </svg>\n",
       "      </button>\n",
       "      \n",
       "  <style>\n",
       "    .colab-df-container {\n",
       "      display:flex;\n",
       "      flex-wrap:wrap;\n",
       "      gap: 12px;\n",
       "    }\n",
       "\n",
       "    .colab-df-convert {\n",
       "      background-color: #E8F0FE;\n",
       "      border: none;\n",
       "      border-radius: 50%;\n",
       "      cursor: pointer;\n",
       "      display: none;\n",
       "      fill: #1967D2;\n",
       "      height: 32px;\n",
       "      padding: 0 0 0 0;\n",
       "      width: 32px;\n",
       "    }\n",
       "\n",
       "    .colab-df-convert:hover {\n",
       "      background-color: #E2EBFA;\n",
       "      box-shadow: 0px 1px 2px rgba(60, 64, 67, 0.3), 0px 1px 3px 1px rgba(60, 64, 67, 0.15);\n",
       "      fill: #174EA6;\n",
       "    }\n",
       "\n",
       "    [theme=dark] .colab-df-convert {\n",
       "      background-color: #3B4455;\n",
       "      fill: #D2E3FC;\n",
       "    }\n",
       "\n",
       "    [theme=dark] .colab-df-convert:hover {\n",
       "      background-color: #434B5C;\n",
       "      box-shadow: 0px 1px 3px 1px rgba(0, 0, 0, 0.15);\n",
       "      filter: drop-shadow(0px 1px 2px rgba(0, 0, 0, 0.3));\n",
       "      fill: #FFFFFF;\n",
       "    }\n",
       "  </style>\n",
       "\n",
       "      <script>\n",
       "        const buttonEl =\n",
       "          document.querySelector('#df-f52b5752-d72a-44b9-94ca-52b89121404a button.colab-df-convert');\n",
       "        buttonEl.style.display =\n",
       "          google.colab.kernel.accessAllowed ? 'block' : 'none';\n",
       "\n",
       "        async function convertToInteractive(key) {\n",
       "          const element = document.querySelector('#df-f52b5752-d72a-44b9-94ca-52b89121404a');\n",
       "          const dataTable =\n",
       "            await google.colab.kernel.invokeFunction('convertToInteractive',\n",
       "                                                     [key], {});\n",
       "          if (!dataTable) return;\n",
       "\n",
       "          const docLinkHtml = 'Like what you see? Visit the ' +\n",
       "            '<a target=\"_blank\" href=https://colab.research.google.com/notebooks/data_table.ipynb>data table notebook</a>'\n",
       "            + ' to learn more about interactive tables.';\n",
       "          element.innerHTML = '';\n",
       "          dataTable['output_type'] = 'display_data';\n",
       "          await google.colab.output.renderOutput(dataTable, element);\n",
       "          const docLink = document.createElement('div');\n",
       "          docLink.innerHTML = docLinkHtml;\n",
       "          element.appendChild(docLink);\n",
       "        }\n",
       "      </script>\n",
       "    </div>\n",
       "  </div>\n",
       "  "
      ],
      "text/plain": [
       "                   A         B         C  D  F\n",
       "2013-01-01 -1.700069  1.034735  0.888160  5  1\n",
       "2013-01-02  0.432541 -0.135294 -0.017593  5  2\n",
       "2013-01-03  0.420367  1.392852 -0.421063  5  3\n",
       "2013-01-04 -0.023110 -0.102520 -0.163668  5  4\n",
       "2013-01-05  1.919206 -2.044045  1.062205  5  5\n",
       "2013-01-06 -0.621296 -0.398644  0.292082  5  6"
      ]
     },
     "execution_count": 113,
     "metadata": {},
     "output_type": "execute_result"
    }
   ],
   "source": [
    "# Изменение стобца\n",
    "df.loc[:, \"D\"] = np.array([5] * len(df))\n",
    "df"
   ]
  },
  {
   "cell_type": "code",
   "execution_count": 114,
   "metadata": {
    "colab": {
     "base_uri": "https://localhost:8080/",
     "height": 238
    },
    "id": "JvGPzlnpbqVV",
    "outputId": "c7cc6658-2f2f-485e-ec63-23a2d663ba10"
   },
   "outputs": [
    {
     "data": {
      "text/html": [
       "\n",
       "  <div id=\"df-d2264b43-a644-4088-9de9-ff61f4793c12\">\n",
       "    <div class=\"colab-df-container\">\n",
       "      <div>\n",
       "<style scoped>\n",
       "    .dataframe tbody tr th:only-of-type {\n",
       "        vertical-align: middle;\n",
       "    }\n",
       "\n",
       "    .dataframe tbody tr th {\n",
       "        vertical-align: top;\n",
       "    }\n",
       "\n",
       "    .dataframe thead th {\n",
       "        text-align: right;\n",
       "    }\n",
       "</style>\n",
       "<table border=\"1\" class=\"dataframe\">\n",
       "  <thead>\n",
       "    <tr style=\"text-align: right;\">\n",
       "      <th></th>\n",
       "      <th>A</th>\n",
       "      <th>B</th>\n",
       "      <th>C</th>\n",
       "      <th>D</th>\n",
       "    </tr>\n",
       "  </thead>\n",
       "  <tbody>\n",
       "    <tr>\n",
       "      <th>2013-01-01</th>\n",
       "      <td>0.645203</td>\n",
       "      <td>1.385361</td>\n",
       "      <td>-0.285701</td>\n",
       "      <td>2.494591</td>\n",
       "    </tr>\n",
       "    <tr>\n",
       "      <th>2013-01-02</th>\n",
       "      <td>0.011326</td>\n",
       "      <td>0.866892</td>\n",
       "      <td>0.353490</td>\n",
       "      <td>2.386032</td>\n",
       "    </tr>\n",
       "    <tr>\n",
       "      <th>2013-01-03</th>\n",
       "      <td>1.309002</td>\n",
       "      <td>0.534550</td>\n",
       "      <td>-0.443670</td>\n",
       "      <td>4.012441</td>\n",
       "    </tr>\n",
       "    <tr>\n",
       "      <th>2013-01-04</th>\n",
       "      <td>-1.523961</td>\n",
       "      <td>-2.552367</td>\n",
       "      <td>2.901504</td>\n",
       "      <td>3.387343</td>\n",
       "    </tr>\n",
       "    <tr>\n",
       "      <th>2013-01-05</th>\n",
       "      <td>0.019816</td>\n",
       "      <td>-1.836745</td>\n",
       "      <td>0.328384</td>\n",
       "      <td>0.947759</td>\n",
       "    </tr>\n",
       "    <tr>\n",
       "      <th>2013-01-06</th>\n",
       "      <td>-0.082789</td>\n",
       "      <td>0.411189</td>\n",
       "      <td>-0.884269</td>\n",
       "      <td>2.745534</td>\n",
       "    </tr>\n",
       "  </tbody>\n",
       "</table>\n",
       "</div>\n",
       "      <button class=\"colab-df-convert\" onclick=\"convertToInteractive('df-d2264b43-a644-4088-9de9-ff61f4793c12')\"\n",
       "              title=\"Convert this dataframe to an interactive table.\"\n",
       "              style=\"display:none;\">\n",
       "        \n",
       "  <svg xmlns=\"http://www.w3.org/2000/svg\" height=\"24px\"viewBox=\"0 0 24 24\"\n",
       "       width=\"24px\">\n",
       "    <path d=\"M0 0h24v24H0V0z\" fill=\"none\"/>\n",
       "    <path d=\"M18.56 5.44l.94 2.06.94-2.06 2.06-.94-2.06-.94-.94-2.06-.94 2.06-2.06.94zm-11 1L8.5 8.5l.94-2.06 2.06-.94-2.06-.94L8.5 2.5l-.94 2.06-2.06.94zm10 10l.94 2.06.94-2.06 2.06-.94-2.06-.94-.94-2.06-.94 2.06-2.06.94z\"/><path d=\"M17.41 7.96l-1.37-1.37c-.4-.4-.92-.59-1.43-.59-.52 0-1.04.2-1.43.59L10.3 9.45l-7.72 7.72c-.78.78-.78 2.05 0 2.83L4 21.41c.39.39.9.59 1.41.59.51 0 1.02-.2 1.41-.59l7.78-7.78 2.81-2.81c.8-.78.8-2.07 0-2.86zM5.41 20L4 18.59l7.72-7.72 1.47 1.35L5.41 20z\"/>\n",
       "  </svg>\n",
       "      </button>\n",
       "      \n",
       "  <style>\n",
       "    .colab-df-container {\n",
       "      display:flex;\n",
       "      flex-wrap:wrap;\n",
       "      gap: 12px;\n",
       "    }\n",
       "\n",
       "    .colab-df-convert {\n",
       "      background-color: #E8F0FE;\n",
       "      border: none;\n",
       "      border-radius: 50%;\n",
       "      cursor: pointer;\n",
       "      display: none;\n",
       "      fill: #1967D2;\n",
       "      height: 32px;\n",
       "      padding: 0 0 0 0;\n",
       "      width: 32px;\n",
       "    }\n",
       "\n",
       "    .colab-df-convert:hover {\n",
       "      background-color: #E2EBFA;\n",
       "      box-shadow: 0px 1px 2px rgba(60, 64, 67, 0.3), 0px 1px 3px 1px rgba(60, 64, 67, 0.15);\n",
       "      fill: #174EA6;\n",
       "    }\n",
       "\n",
       "    [theme=dark] .colab-df-convert {\n",
       "      background-color: #3B4455;\n",
       "      fill: #D2E3FC;\n",
       "    }\n",
       "\n",
       "    [theme=dark] .colab-df-convert:hover {\n",
       "      background-color: #434B5C;\n",
       "      box-shadow: 0px 1px 3px 1px rgba(0, 0, 0, 0.15);\n",
       "      filter: drop-shadow(0px 1px 2px rgba(0, 0, 0, 0.3));\n",
       "      fill: #FFFFFF;\n",
       "    }\n",
       "  </style>\n",
       "\n",
       "      <script>\n",
       "        const buttonEl =\n",
       "          document.querySelector('#df-d2264b43-a644-4088-9de9-ff61f4793c12 button.colab-df-convert');\n",
       "        buttonEl.style.display =\n",
       "          google.colab.kernel.accessAllowed ? 'block' : 'none';\n",
       "\n",
       "        async function convertToInteractive(key) {\n",
       "          const element = document.querySelector('#df-d2264b43-a644-4088-9de9-ff61f4793c12');\n",
       "          const dataTable =\n",
       "            await google.colab.kernel.invokeFunction('convertToInteractive',\n",
       "                                                     [key], {});\n",
       "          if (!dataTable) return;\n",
       "\n",
       "          const docLinkHtml = 'Like what you see? Visit the ' +\n",
       "            '<a target=\"_blank\" href=https://colab.research.google.com/notebooks/data_table.ipynb>data table notebook</a>'\n",
       "            + ' to learn more about interactive tables.';\n",
       "          element.innerHTML = '';\n",
       "          dataTable['output_type'] = 'display_data';\n",
       "          await google.colab.output.renderOutput(dataTable, element);\n",
       "          const docLink = document.createElement('div');\n",
       "          docLink.innerHTML = docLinkHtml;\n",
       "          element.appendChild(docLink);\n",
       "        }\n",
       "      </script>\n",
       "    </div>\n",
       "  </div>\n",
       "  "
      ],
      "text/plain": [
       "                   A         B         C         D\n",
       "2013-01-01  0.645203  1.385361 -0.285701  2.494591\n",
       "2013-01-02  0.011326  0.866892  0.353490  2.386032\n",
       "2013-01-03  1.309002  0.534550 -0.443670  4.012441\n",
       "2013-01-04 -1.523961 -2.552367  2.901504  3.387343\n",
       "2013-01-05  0.019816 -1.836745  0.328384  0.947759\n",
       "2013-01-06 -0.082789  0.411189 -0.884269  2.745534"
      ]
     },
     "execution_count": 114,
     "metadata": {},
     "output_type": "execute_result"
    }
   ],
   "source": [
    "# Операции между DataFrame\n",
    "df2 = pd.DataFrame(np.random.randn(6, 4), index=dates, columns=list(\"ABCD\"))\n",
    "df2 = df2 + df.iloc[:, :-1] * 0.5\n",
    "df2"
   ]
  },
  {
   "cell_type": "code",
   "execution_count": 115,
   "metadata": {
    "colab": {
     "base_uri": "https://localhost:8080/"
    },
    "id": "1wIg_bI3bqVW",
    "outputId": "269a25dd-07ad-49f4-96b9-185d2a8a2784"
   },
   "outputs": [
    {
     "name": "stdout",
     "output_type": "stream",
     "text": [
      "                   A         B         C  D  F\n",
      "2013-01-01 -1.700069  1.034735  0.888160  5  1\n",
      "2013-01-02  0.432541 -0.135294 -0.017593  5  2\n",
      "2013-01-03  0.420367  1.392852 -0.421063  5  3\n",
      "2013-01-04 -0.023110 -0.102520 -0.163668  5  4\n",
      "2013-01-05  1.919206 -2.044045  1.062205  5  5\n",
      "2013-01-06 -0.621296 -0.398644  0.292082  5  6\n",
      "                A      B      C     D     F\n",
      "2013-01-01  False   True   True  True  True\n",
      "2013-01-02   True  False  False  True  True\n",
      "2013-01-03   True   True  False  True  True\n",
      "2013-01-04  False  False  False  True  True\n",
      "2013-01-05   True  False   True  True  True\n",
      "2013-01-06  False  False   True  True  True \n",
      "\n",
      "                   A         B         C   D   F\n",
      "2013-01-01 -1.700069  2.069471  1.776320  10   2\n",
      "2013-01-02  0.865083 -0.135294 -0.017593  10   4\n",
      "2013-01-03  0.840733  2.785703 -0.421063  10   6\n",
      "2013-01-04 -0.023110 -0.102520 -0.163668  10   8\n",
      "2013-01-05  3.838412 -2.044045  2.124410  10  10\n",
      "2013-01-06 -0.621296 -0.398644  0.584164  10  12\n"
     ]
    }
   ],
   "source": [
    "# Булева индексация\n",
    "\n",
    "print(df)\n",
    "print(df > 0, '\\n')\n",
    "df[df > 0] = df * 2\n",
    "print(df)"
   ]
  },
  {
   "cell_type": "code",
   "execution_count": 116,
   "metadata": {
    "colab": {
     "base_uri": "https://localhost:8080/"
    },
    "id": "vKiRvMhhbqVW",
    "outputId": "b564b4c5-b7cc-47d4-c711-a09a13902fcf"
   },
   "outputs": [
    {
     "data": {
      "text/plain": [
       "A     0.533292\n",
       "B     0.362445\n",
       "C     0.647095\n",
       "D    10.000000\n",
       "F     7.000000\n",
       "dtype: float64"
      ]
     },
     "execution_count": 116,
     "metadata": {},
     "output_type": "execute_result"
    }
   ],
   "source": [
    "# Операции с DataFrame\n",
    "df.mean()"
   ]
  },
  {
   "cell_type": "markdown",
   "metadata": {},
   "source": [
    "# Sklearn"
   ]
  },
  {
   "cell_type": "code",
   "execution_count": 117,
   "metadata": {
    "id": "gWYafEGeoCx6"
   },
   "outputs": [],
   "source": [
    "from sklearn.linear_model import SGDRegressor"
   ]
  },
  {
   "cell_type": "code",
   "execution_count": 118,
   "metadata": {
    "id": "dMJNQyL8oC0D"
   },
   "outputs": [],
   "source": [
    "from sklearn.preprocessing import PolynomialFeatures\n",
    "from sklearn.metrics import mean_squared_error"
   ]
  },
  {
   "cell_type": "code",
   "execution_count": 119,
   "metadata": {
    "colab": {
     "base_uri": "https://localhost:8080/",
     "height": 424
    },
    "id": "o0EqS_x1AuSk",
    "outputId": "0e6b4a82-ac87-4588-974b-48db03c70e98"
   },
   "outputs": [
    {
     "data": {
      "text/html": [
       "\n",
       "  <div id=\"df-1b313d06-b7fa-4687-bbba-d93598affb0c\">\n",
       "    <div class=\"colab-df-container\">\n",
       "      <div>\n",
       "<style scoped>\n",
       "    .dataframe tbody tr th:only-of-type {\n",
       "        vertical-align: middle;\n",
       "    }\n",
       "\n",
       "    .dataframe tbody tr th {\n",
       "        vertical-align: top;\n",
       "    }\n",
       "\n",
       "    .dataframe thead th {\n",
       "        text-align: right;\n",
       "    }\n",
       "</style>\n",
       "<table border=\"1\" class=\"dataframe\">\n",
       "  <thead>\n",
       "    <tr style=\"text-align: right;\">\n",
       "      <th></th>\n",
       "      <th>X</th>\n",
       "      <th>Y</th>\n",
       "    </tr>\n",
       "  </thead>\n",
       "  <tbody>\n",
       "    <tr>\n",
       "      <th>0</th>\n",
       "      <td>0</td>\n",
       "      <td>-1.0</td>\n",
       "    </tr>\n",
       "    <tr>\n",
       "      <th>1</th>\n",
       "      <td>1</td>\n",
       "      <td>-0.4</td>\n",
       "    </tr>\n",
       "    <tr>\n",
       "      <th>2</th>\n",
       "      <td>2</td>\n",
       "      <td>0.4</td>\n",
       "    </tr>\n",
       "    <tr>\n",
       "      <th>3</th>\n",
       "      <td>3</td>\n",
       "      <td>1.4</td>\n",
       "    </tr>\n",
       "    <tr>\n",
       "      <th>4</th>\n",
       "      <td>4</td>\n",
       "      <td>2.6</td>\n",
       "    </tr>\n",
       "    <tr>\n",
       "      <th>...</th>\n",
       "      <td>...</td>\n",
       "      <td>...</td>\n",
       "    </tr>\n",
       "    <tr>\n",
       "      <th>95</th>\n",
       "      <td>95</td>\n",
       "      <td>949.0</td>\n",
       "    </tr>\n",
       "    <tr>\n",
       "      <th>96</th>\n",
       "      <td>96</td>\n",
       "      <td>968.6</td>\n",
       "    </tr>\n",
       "    <tr>\n",
       "      <th>97</th>\n",
       "      <td>97</td>\n",
       "      <td>988.4</td>\n",
       "    </tr>\n",
       "    <tr>\n",
       "      <th>98</th>\n",
       "      <td>98</td>\n",
       "      <td>1008.4</td>\n",
       "    </tr>\n",
       "    <tr>\n",
       "      <th>99</th>\n",
       "      <td>99</td>\n",
       "      <td>1028.6</td>\n",
       "    </tr>\n",
       "  </tbody>\n",
       "</table>\n",
       "<p>100 rows × 2 columns</p>\n",
       "</div>\n",
       "      <button class=\"colab-df-convert\" onclick=\"convertToInteractive('df-1b313d06-b7fa-4687-bbba-d93598affb0c')\"\n",
       "              title=\"Convert this dataframe to an interactive table.\"\n",
       "              style=\"display:none;\">\n",
       "        \n",
       "  <svg xmlns=\"http://www.w3.org/2000/svg\" height=\"24px\"viewBox=\"0 0 24 24\"\n",
       "       width=\"24px\">\n",
       "    <path d=\"M0 0h24v24H0V0z\" fill=\"none\"/>\n",
       "    <path d=\"M18.56 5.44l.94 2.06.94-2.06 2.06-.94-2.06-.94-.94-2.06-.94 2.06-2.06.94zm-11 1L8.5 8.5l.94-2.06 2.06-.94-2.06-.94L8.5 2.5l-.94 2.06-2.06.94zm10 10l.94 2.06.94-2.06 2.06-.94-2.06-.94-.94-2.06-.94 2.06-2.06.94z\"/><path d=\"M17.41 7.96l-1.37-1.37c-.4-.4-.92-.59-1.43-.59-.52 0-1.04.2-1.43.59L10.3 9.45l-7.72 7.72c-.78.78-.78 2.05 0 2.83L4 21.41c.39.39.9.59 1.41.59.51 0 1.02-.2 1.41-.59l7.78-7.78 2.81-2.81c.8-.78.8-2.07 0-2.86zM5.41 20L4 18.59l7.72-7.72 1.47 1.35L5.41 20z\"/>\n",
       "  </svg>\n",
       "      </button>\n",
       "      \n",
       "  <style>\n",
       "    .colab-df-container {\n",
       "      display:flex;\n",
       "      flex-wrap:wrap;\n",
       "      gap: 12px;\n",
       "    }\n",
       "\n",
       "    .colab-df-convert {\n",
       "      background-color: #E8F0FE;\n",
       "      border: none;\n",
       "      border-radius: 50%;\n",
       "      cursor: pointer;\n",
       "      display: none;\n",
       "      fill: #1967D2;\n",
       "      height: 32px;\n",
       "      padding: 0 0 0 0;\n",
       "      width: 32px;\n",
       "    }\n",
       "\n",
       "    .colab-df-convert:hover {\n",
       "      background-color: #E2EBFA;\n",
       "      box-shadow: 0px 1px 2px rgba(60, 64, 67, 0.3), 0px 1px 3px 1px rgba(60, 64, 67, 0.15);\n",
       "      fill: #174EA6;\n",
       "    }\n",
       "\n",
       "    [theme=dark] .colab-df-convert {\n",
       "      background-color: #3B4455;\n",
       "      fill: #D2E3FC;\n",
       "    }\n",
       "\n",
       "    [theme=dark] .colab-df-convert:hover {\n",
       "      background-color: #434B5C;\n",
       "      box-shadow: 0px 1px 3px 1px rgba(0, 0, 0, 0.15);\n",
       "      filter: drop-shadow(0px 1px 2px rgba(0, 0, 0, 0.3));\n",
       "      fill: #FFFFFF;\n",
       "    }\n",
       "  </style>\n",
       "\n",
       "      <script>\n",
       "        const buttonEl =\n",
       "          document.querySelector('#df-1b313d06-b7fa-4687-bbba-d93598affb0c button.colab-df-convert');\n",
       "        buttonEl.style.display =\n",
       "          google.colab.kernel.accessAllowed ? 'block' : 'none';\n",
       "\n",
       "        async function convertToInteractive(key) {\n",
       "          const element = document.querySelector('#df-1b313d06-b7fa-4687-bbba-d93598affb0c');\n",
       "          const dataTable =\n",
       "            await google.colab.kernel.invokeFunction('convertToInteractive',\n",
       "                                                     [key], {});\n",
       "          if (!dataTable) return;\n",
       "\n",
       "          const docLinkHtml = 'Like what you see? Visit the ' +\n",
       "            '<a target=\"_blank\" href=https://colab.research.google.com/notebooks/data_table.ipynb>data table notebook</a>'\n",
       "            + ' to learn more about interactive tables.';\n",
       "          element.innerHTML = '';\n",
       "          dataTable['output_type'] = 'display_data';\n",
       "          await google.colab.output.renderOutput(dataTable, element);\n",
       "          const docLink = document.createElement('div');\n",
       "          docLink.innerHTML = docLinkHtml;\n",
       "          element.appendChild(docLink);\n",
       "        }\n",
       "      </script>\n",
       "    </div>\n",
       "  </div>\n",
       "  "
      ],
      "text/plain": [
       "     X       Y\n",
       "0    0    -1.0\n",
       "1    1    -0.4\n",
       "2    2     0.4\n",
       "3    3     1.4\n",
       "4    4     2.6\n",
       "..  ..     ...\n",
       "95  95   949.0\n",
       "96  96   968.6\n",
       "97  97   988.4\n",
       "98  98  1008.4\n",
       "99  99  1028.6\n",
       "\n",
       "[100 rows x 2 columns]"
      ]
     },
     "execution_count": 119,
     "metadata": {},
     "output_type": "execute_result"
    }
   ],
   "source": [
    "X = np.arange(0, 100)\n",
    "Y = 0.1 * X ** 2 + 0.5 * X - 1\n",
    "\n",
    "df = pd.DataFrame({'X': X, 'Y': Y})\n",
    "df"
   ]
  },
  {
   "cell_type": "code",
   "execution_count": 120,
   "metadata": {
    "colab": {
     "base_uri": "https://localhost:8080/"
    },
    "id": "pEPp-Zb5t3xv",
    "outputId": "8f0d9e4f-65d9-4a6c-983f-b97b0f07ac02"
   },
   "outputs": [
    {
     "name": "stdout",
     "output_type": "stream",
     "text": [
      "Learning rate: 1000.0, loss: 1.37376981301416e+41\n",
      "Learning rate: 10.0, loss: 1.3241299079792685e+39\n",
      "Learning rate: 0.1, loss: 1.4058851476220602e+35\n",
      "Learning rate: 0.001, loss: 4.2202616753086075e+30\n",
      "Learning rate: 1e-05, loss: 8.308060705415986e+26\n",
      "Learning rate: 1e-06, loss: 8.524994830298729e+22\n",
      "Learning rate: 1e-07, loss: 43.1142466550591\n",
      "Learning rate: 1e-08, loss: 43.56784055611465\n",
      "Learning rate: 1e-09, loss: 43.235237577529745\n"
     ]
    }
   ],
   "source": [
    "lr = [1e3, 1e1, 1e-1, 1e-3, 1e-5, 1e-6, 1e-7, 1e-8, 1e-9]\n",
    "poly = PolynomialFeatures(2)\n",
    "\n",
    "for i in lr:\n",
    "    model = SGDRegressor(eta0=i)\n",
    "    model.fit(poly.fit_transform(df.iloc[:, 0:1]), df.Y)\n",
    "    Y_pred = model.predict(poly.fit_transform(df.iloc[:, 0:1]))\n",
    "    loss = mean_squared_error(df.Y, Y_pred)\n",
    "    print(f'Learning rate: {i}, loss: {loss}')"
   ]
  },
  {
   "cell_type": "code",
   "execution_count": 121,
   "metadata": {
    "colab": {
     "base_uri": "https://localhost:8080/"
    },
    "id": "Dbq2w2l6BiaQ",
    "outputId": "f8e6f57b-0d50-47f8-de90-f57a337babbd"
   },
   "outputs": [
    {
     "name": "stdout",
     "output_type": "stream",
     "text": [
      "Learning rate: 1000.0, loss: 5.592834313076049e+41\n",
      "Learning rate: 10.0, loss: 2.8883330090085737e+38\n",
      "Learning rate: 0.1, loss: 9.854188448082478e+34\n",
      "Learning rate: 0.001, loss: 3.1813607697141716e+30\n",
      "Learning rate: 1e-05, loss: 7.756774682417815e+26\n",
      "Learning rate: 1e-06, loss: 6.149736004024481e+24\n",
      "Learning rate: 1e-07, loss: 66.06771694446236\n",
      "Learning rate: 1e-08, loss: 43.50815898034693\n",
      "Learning rate: 1e-09, loss: 43.25005465284681\n"
     ]
    }
   ],
   "source": [
    "lr = [1e3, 1e1, 1e-1, 1e-3, 1e-5, 1e-6, 1e-7, 1e-8, 1e-9]\n",
    "\n",
    "for i in lr:\n",
    "    model = SGDRegressor(eta0=i)\n",
    "    model.fit(poly.fit_transform(X.reshape(-1, 1)), Y)\n",
    "    Y_pred = model.predict(poly.fit_transform(X.reshape(-1, 1)))\n",
    "    loss = mean_squared_error(Y, Y_pred)\n",
    "    print(f'Learning rate: {i}, loss: {loss}')"
   ]
  },
  {
   "cell_type": "code",
   "execution_count": 122,
   "metadata": {
    "id": "6fjqOmHO-7bf"
   },
   "outputs": [],
   "source": [
    "model = SGDRegressor(eta0=1e-9)\n",
    "model.fit(poly.fit_transform(X.reshape(-1, 1)), Y)\n",
    "Y_pred = model.predict(poly.fit_transform(X.reshape(-1, 1)))"
   ]
  },
  {
   "cell_type": "code",
   "execution_count": 123,
   "metadata": {
    "colab": {
     "base_uri": "https://localhost:8080/",
     "height": 592
    },
    "id": "jUmIScKLuKtz",
    "outputId": "581d139c-5428-4c80-f483-56d2bfd9d92e",
    "scrolled": true
   },
   "outputs": [
    {
     "data": {
      "image/png": "[encoded data removed]",
      "text/plain": [
       "<Figure size 1080x720 with 1 Axes>"
      ]
     },
     "metadata": {
      "needs_background": "light"
     },
     "output_type": "display_data"
    }
   ],
   "source": [
    "from matplotlib import pyplot as plt\n",
    "\n",
    "fig, ax = plt.subplots(figsize=(15, 10))\n",
    "\n",
    "ax.scatter(X, Y, c='r')\n",
    "ax.plot(X, Y_pred)\n",
    "plt.show()"
   ]
  },
  {
   "cell_type": "markdown",
   "metadata": {
    "id": "LdXRo34Z1p7I"
   },
   "source": [
    "# Полезные функции"
   ]
  },
  {
   "cell_type": "code",
   "execution_count": 66,
   "metadata": {
    "id": "_UG8fgRp1p7J"
   },
   "outputs": [
    {
     "name": "stdout",
     "output_type": "stream",
     "text": [
      "[1, 2, 3, 4, 5, 6, 7]\n"
     ]
    }
   ],
   "source": [
    "# Функция \"map\"\n",
    "\n",
    "a = ['1', '2', '3', '4', '5', '6', '7']\n",
    "b = list(map(int, a))\n",
    "\n",
    "print(b)"
   ]
  },
  {
   "cell_type": "code",
   "execution_count": 67,
   "metadata": {
    "id": "NqoO-NfO1p7J"
   },
   "outputs": [
    {
     "name": "stdout",
     "output_type": "stream",
     "text": [
      "[3, 6, 11, 18, 27, 38, 51]\n"
     ]
    }
   ],
   "source": [
    "# Функция \"lambda\"\n",
    "\n",
    "a = [1, 2, 3, 4, 5, 6, 7]\n",
    "b = list(map(lambda x: x ** 2 + 2, a))\n",
    "\n",
    "\n",
    "print(b)"
   ]
  },
  {
   "cell_type": "code",
   "execution_count": 68,
   "metadata": {
    "id": "Q-5Q1Jy41p7J"
   },
   "outputs": [
    {
     "name": "stdout",
     "output_type": "stream",
     "text": [
      "[1, 3, 5, 7]\n"
     ]
    }
   ],
   "source": [
    "# Функция \"filter\"\n",
    "\n",
    "a = [1, 2, 3, 4, 5, 6, 7]\n",
    "b = list(filter(lambda x: x % 2, a)) \n",
    "\n",
    "print (b)"
   ]
  },
  {
   "cell_type": "code",
   "execution_count": 69,
   "metadata": {
    "id": "dTPITwyQ1p7J"
   },
   "outputs": [
    {
     "name": "stdout",
     "output_type": "stream",
     "text": [
      "14\n"
     ]
    }
   ],
   "source": [
    "# Функция \"reduce\"\n",
    "\n",
    "from functools import reduce\n",
    "\n",
    "a = [1, 2, 3]\n",
    "b = reduce(lambda x,y: x + y ** 2, a)\n",
    "\n",
    "print (b)"
   ]
  },
  {
   "cell_type": "code",
   "execution_count": 70,
   "metadata": {
    "id": "VkzHihoK1p7J"
   },
   "outputs": [
    {
     "name": "stdout",
     "output_type": "stream",
     "text": [
      "[(1, 4, 7), (2, 5, 8)]\n"
     ]
    }
   ],
   "source": [
    "# Функция \"zip\"\n",
    "\n",
    "a = [1,2,3]\n",
    "b = [4,5,6]\n",
    "c = [7,8]\n",
    "res = list(zip(a, b, c))\n",
    "\n",
    "print (res)"
   ]
  }
 ],
 "metadata": {
  "colab": {
   "collapsed_sections": [],
   "name": "python_get_started.ipynb",
   "provenance": []
  },
  "kernelspec": {
   "display_name": "Python 3 (ipykernel)",
   "language": "python",
   "name": "python3"
  },
  "language_info": {
   "codemirror_mode": {
    "name": "ipython",
    "version": 3
   },
   "file_extension": ".py",
   "mimetype": "text/x-python",
   "name": "python",
   "nbconvert_exporter": "python",
   "pygments_lexer": "ipython3",
   "version": "3.10.9"
  },
  "varInspector": {
   "cols": {
    "lenName": 16,
    "lenType": 16,
    "lenVar": 40
   },
   "kernels_config": {
    "python": {
     "delete_cmd_postfix": "",
     "delete_cmd_prefix": "del ",
     "library": "var_list.py",
     "varRefreshCmd": "print(var_dic_list())"
    },
    "r": {
     "delete_cmd_postfix": ") ",
     "delete_cmd_prefix": "rm(",
     "library": "var_list.r",
     "varRefreshCmd": "cat(var_dic_list()) "
    }
   },
   "types_to_exclude": [
    "module",
    "function",
    "builtin_function_or_method",
    "instance",
    "_Feature"
   ],
   "window_display": false
  }
 },
 "nbformat": 4,
 "nbformat_minor": 1
}
